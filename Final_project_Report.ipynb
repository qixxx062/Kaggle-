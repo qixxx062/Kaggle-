{
 "cells": [
  {
   "cell_type": "markdown",
   "metadata": {},
   "source": [
    "# Final Project Part 3- Technical Report\n",
    "\n",
    "Nick (Leibao) Qi"
   ]
  },
  {
   "cell_type": "markdown",
   "metadata": {},
   "source": [
    "**Overview**\n",
    "\n",
    "- The malware industry continues to be a well-organized, well-funded market dedicated to evading traditional security measures. Once a computer is infected by malware, criminals can hurt consumers and enterprises in many ways. \n",
    "- With more than one billion enterprise and consumer customers, Microsoft takes this problem very seriously and is deeply invested in improving security.As one part of their overall strategy for doing so, Microsoft is challenging the data science community to develop techniques to predict if a machine will soon be hit with malware. Microsoft is providing an unprecedented malware dataset to encourage open-source progress on effective techniques for predicting malware occurrences.\n",
    "\n",
    "\n",
    "**Goal**\n",
    "\n",
    "- Predict a Windows machine’s probability of getting infected by various families of malware, based on different properties of that machine"
   ]
  },
  {
   "cell_type": "markdown",
   "metadata": {},
   "source": [
    "**The Dataset**\n",
    "- Includes properties of machines and records of machine infections collected by Windows Denfender\n"
   ]
  },
  {
   "cell_type": "markdown",
   "metadata": {},
   "source": [
    "# Tabel of Content \n",
    "\n",
    "1. [Load Dataset](#data)\n",
    "    <a href = '#data'></a>\n",
    "\n",
    "2. [Exploratory Data Analysis](#EDA)\n",
    "    <a href = '#EDA'></a>    \n",
    "    \n",
    "3. [Feature Engineering](#FE)\n",
    "    <a href = '#FE'></a>     \n",
    "    \n",
    "4. [Data Modeling](#DM)\n",
    "   <a href = '#DM'></a>    \n",
    "    \n",
    "5. [Evaluation](#EVA)\n",
    "   <a href = 'EVA'></a> \n",
    "\n",
    "6. [Next Step](#NS)\n",
    "   <a href = '#NEXT'></a>        "
   ]
  },
  {
   "cell_type": "code",
   "execution_count": 127,
   "metadata": {
    "scrolled": true
   },
   "outputs": [],
   "source": [
    "%matplotlib inline  \n",
    "\n",
    "import time\n",
    "import sys\n",
    "import pandas as pd\n",
    "import scipy as sc\n",
    "import numpy as np\n",
    "import matplotlib.pyplot as plt\n",
    "import seaborn as sns\n",
    "import lightgbm as lgb\n",
    "from tqdm import tqdm\n",
    "from sklearn.model_selection import KFold\n",
    "from sklearn import metrics\n",
    "from sklearn.preprocessing import LabelEncoder\n",
    "\n",
    "import gc\n",
    "\n",
    "import plotly\n",
    "from plotly.offline import init_notebook_mode, iplot\n",
    "import plotly.graph_objs as go\n",
    "from plotly import tools\n",
    "import plotly.plotly as py\n",
    "from IPython.display import Image\n"
   ]
  },
  {
   "cell_type": "markdown",
   "metadata": {},
   "source": [
    "<a id =\"data\"></a>\n",
    "**1. Load train and test dataset**\n",
    "\n",
    "* Use chuncksize to check dataset first due to large size of data\n",
    "* Change datatypes to reduce memeory use\n"
   ]
  },
  {
   "cell_type": "code",
   "execution_count": 2,
   "metadata": {},
   "outputs": [
    {
     "data": {
      "text/plain": [
       "pandas.io.parsers.TextFileReader"
      ]
     },
     "execution_count": 2,
     "metadata": {},
     "output_type": "execute_result"
    }
   ],
   "source": [
    "reader = pd.read_csv('train.csv',chunksize=10)\n",
    "type(reader)"
   ]
  },
  {
   "cell_type": "code",
   "execution_count": 3,
   "metadata": {
    "collapsed": true
   },
   "outputs": [],
   "source": [
    "reader2 = pd.read_csv('test.csv',chunksize=10)"
   ]
  },
  {
   "cell_type": "code",
   "execution_count": 4,
   "metadata": {
    "scrolled": false
   },
   "outputs": [
    {
     "name": "stdout",
     "output_type": "stream",
     "text": [
      "                  MachineIdentifier   ProductName EngineVersion  \\\n",
      "0  0000028988387b115f69f31a3bf04f09  win8defender   1.1.15100.1   \n",
      "1  000007535c3f730efa9ea0b7ef1bd645  win8defender   1.1.14600.4   \n",
      "2  000007905a28d863f6d0d597892cd692  win8defender   1.1.15100.1   \n",
      "3  00000b11598a75ea8ba1beea8459149f  win8defender   1.1.15100.1   \n",
      "4  000014a5f00daa18e76b81417eeb99fc  win8defender   1.1.15100.1   \n",
      "5  000016191b897145d069102325cab760  win8defender   1.1.15100.1   \n",
      "6  0000161e8abf8d8b89c5ab8787fd712b  win8defender   1.1.15100.1   \n",
      "7  000019515bc8f95851aff6de873405e8  win8defender   1.1.15100.1   \n",
      "8  00001a027a0ab970c408182df8484fce  win8defender   1.1.15200.1   \n",
      "9  00001a18d69bb60bda9779408dcf02ac  win8defender   1.1.15100.1   \n",
      "\n",
      "        AppVersion  AvSigVersion  IsBeta  RtpStateBitfield  IsSxsPassiveMode  \\\n",
      "0  4.18.1807.18075  1.273.1735.0       0                 7                 0   \n",
      "1     4.13.17134.1    1.263.48.0       0                 7                 0   \n",
      "2  4.18.1807.18075  1.273.1341.0       0                 7                 0   \n",
      "3  4.18.1807.18075  1.273.1527.0       0                 7                 0   \n",
      "4  4.18.1807.18075  1.273.1379.0       0                 7                 0   \n",
      "5  4.18.1807.18075  1.273.1094.0       0                 7                 0   \n",
      "6  4.18.1807.18075   1.273.845.0       0                 7                 0   \n",
      "7  4.18.1807.18075  1.273.1393.0       0                 7                 0   \n",
      "8  4.18.1807.18075   1.275.988.0       0                 7                 0   \n",
      "9  4.18.1807.18075   1.273.973.0       0                 7                 0   \n",
      "\n",
      "   DefaultBrowsersIdentifier  AVProductStatesIdentifier  ...  \\\n",
      "0                        NaN                      53447  ...   \n",
      "1                        NaN                      53447  ...   \n",
      "2                        NaN                      53447  ...   \n",
      "3                        NaN                      53447  ...   \n",
      "4                        NaN                      53447  ...   \n",
      "5                        NaN                      53447  ...   \n",
      "6                        NaN                      43927  ...   \n",
      "7                        NaN                      53447  ...   \n",
      "8                        NaN                      53447  ...   \n",
      "9                        NaN                      46413  ...   \n",
      "\n",
      "   Census_FirmwareVersionIdentifier  Census_IsSecureBootEnabled  \\\n",
      "0                             36144                           0   \n",
      "1                             57858                           0   \n",
      "2                             52682                           0   \n",
      "3                             20050                           0   \n",
      "4                             19844                           0   \n",
      "5                             51039                           0   \n",
      "6                             63175                           1   \n",
      "7                             63122                           0   \n",
      "8                             15510                           0   \n",
      "9                             63555                           1   \n",
      "\n",
      "   Census_IsWIMBootEnabled  Census_IsVirtualDevice  Census_IsTouchEnabled  \\\n",
      "0                      NaN                       0                      0   \n",
      "1                      NaN                       0                      0   \n",
      "2                      NaN                       0                      0   \n",
      "3                      NaN                       0                      0   \n",
      "4                      0.0                       0                      0   \n",
      "5                      0.0                       0                      0   \n",
      "6                      NaN                       0                      0   \n",
      "7                      0.0                       0                      0   \n",
      "8                      0.0                       0                      0   \n",
      "9                      0.0                       0                      0   \n",
      "\n",
      "   Census_IsPenCapable  Census_IsAlwaysOnAlwaysConnectedCapable  Wdft_IsGamer  \\\n",
      "0                    0                                        0             0   \n",
      "1                    0                                        0             0   \n",
      "2                    0                                        0             0   \n",
      "3                    0                                        0             0   \n",
      "4                    0                                        0             0   \n",
      "5                    0                                        0             0   \n",
      "6                    0                                        0             0   \n",
      "7                    0                                        0             0   \n",
      "8                    0                                        0             0   \n",
      "9                    0                                        0             1   \n",
      "\n",
      "  Wdft_RegionIdentifier HasDetections  \n",
      "0                    10             0  \n",
      "1                     8             0  \n",
      "2                     3             0  \n",
      "3                     3             1  \n",
      "4                     1             1  \n",
      "5                    15             1  \n",
      "6                    10             1  \n",
      "7                    15             0  \n",
      "8                    15             0  \n",
      "9                     8             1  \n",
      "\n",
      "[10 rows x 83 columns]\n"
     ]
    }
   ],
   "source": [
    "sample_chunk = None\n",
    "for chunk in reader:\n",
    "    sample_chunk = chunk\n",
    "    print(sample_chunk)\n",
    "    break"
   ]
  },
  {
   "cell_type": "code",
   "execution_count": 5,
   "metadata": {
    "collapsed": true,
    "scrolled": true
   },
   "outputs": [],
   "source": [
    "sample_chunk2 = None\n",
    "for chunk in reader2:\n",
    "    sample_chunk2 = chunk\n",
    "    break"
   ]
  },
  {
   "cell_type": "code",
   "execution_count": 6,
   "metadata": {},
   "outputs": [
    {
     "data": {
      "text/plain": [
       "83"
      ]
     },
     "execution_count": 6,
     "metadata": {},
     "output_type": "execute_result"
    }
   ],
   "source": [
    "# Number of columns in train: 83\n",
    "sample_chunk.shape[1]"
   ]
  },
  {
   "cell_type": "code",
   "execution_count": 7,
   "metadata": {},
   "outputs": [
    {
     "data": {
      "text/plain": [
       "82"
      ]
     },
     "execution_count": 7,
     "metadata": {},
     "output_type": "execute_result"
    }
   ],
   "source": [
    "# Number of columns in test\n",
    "sample_chunk2.shape[1]"
   ]
  },
  {
   "cell_type": "code",
   "execution_count": 8,
   "metadata": {
    "scrolled": false
   },
   "outputs": [
    {
     "name": "stdout",
     "output_type": "stream",
     "text": [
      "<class 'pandas.core.frame.DataFrame'>\n",
      "RangeIndex: 10 entries, 0 to 9\n",
      "Data columns (total 83 columns):\n",
      "MachineIdentifier                                    10 non-null object\n",
      "ProductName                                          10 non-null object\n",
      "EngineVersion                                        10 non-null object\n",
      "AppVersion                                           10 non-null object\n",
      "AvSigVersion                                         10 non-null object\n",
      "IsBeta                                               10 non-null int64\n",
      "RtpStateBitfield                                     10 non-null int64\n",
      "IsSxsPassiveMode                                     10 non-null int64\n",
      "DefaultBrowsersIdentifier                            0 non-null float64\n",
      "AVProductStatesIdentifier                            10 non-null int64\n",
      "AVProductsInstalled                                  10 non-null int64\n",
      "AVProductsEnabled                                    10 non-null int64\n",
      "HasTpm                                               10 non-null int64\n",
      "CountryIdentifier                                    10 non-null int64\n",
      "CityIdentifier                                       10 non-null int64\n",
      "OrganizationIdentifier                               7 non-null float64\n",
      "GeoNameIdentifier                                    10 non-null int64\n",
      "LocaleEnglishNameIdentifier                          10 non-null int64\n",
      "Platform                                             10 non-null object\n",
      "Processor                                            10 non-null object\n",
      "OsVer                                                10 non-null object\n",
      "OsBuild                                              10 non-null int64\n",
      "OsSuite                                              10 non-null int64\n",
      "OsPlatformSubRelease                                 10 non-null object\n",
      "OsBuildLab                                           10 non-null object\n",
      "SkuEdition                                           10 non-null object\n",
      "IsProtected                                          10 non-null int64\n",
      "AutoSampleOptIn                                      10 non-null int64\n",
      "PuaMode                                              0 non-null float64\n",
      "SMode                                                10 non-null int64\n",
      "IeVerIdentifier                                      9 non-null float64\n",
      "SmartScreen                                          7 non-null object\n",
      "Firewall                                             10 non-null int64\n",
      "UacLuaenable                                         10 non-null int64\n",
      "Census_MDC2FormFactor                                10 non-null object\n",
      "Census_DeviceFamily                                  10 non-null object\n",
      "Census_OEMNameIdentifier                             10 non-null int64\n",
      "Census_OEMModelIdentifier                            10 non-null int64\n",
      "Census_ProcessorCoreCount                            10 non-null int64\n",
      "Census_ProcessorManufacturerIdentifier               10 non-null int64\n",
      "Census_ProcessorModelIdentifier                      10 non-null int64\n",
      "Census_ProcessorClass                                0 non-null float64\n",
      "Census_PrimaryDiskTotalCapacity                      10 non-null int64\n",
      "Census_PrimaryDiskTypeName                           10 non-null object\n",
      "Census_SystemVolumeTotalCapacity                     10 non-null int64\n",
      "Census_HasOpticalDiskDrive                           10 non-null int64\n",
      "Census_TotalPhysicalRAM                              10 non-null int64\n",
      "Census_ChassisTypeName                               10 non-null object\n",
      "Census_InternalPrimaryDiagonalDisplaySizeInInches    10 non-null float64\n",
      "Census_InternalPrimaryDisplayResolutionHorizontal    10 non-null int64\n",
      "Census_InternalPrimaryDisplayResolutionVertical      10 non-null int64\n",
      "Census_PowerPlatformRoleName                         10 non-null object\n",
      "Census_InternalBatteryType                           4 non-null object\n",
      "Census_InternalBatteryNumberOfCharges                10 non-null int64\n",
      "Census_OSVersion                                     10 non-null object\n",
      "Census_OSArchitecture                                10 non-null object\n",
      "Census_OSBranch                                      10 non-null object\n",
      "Census_OSBuildNumber                                 10 non-null int64\n",
      "Census_OSBuildRevision                               10 non-null int64\n",
      "Census_OSEdition                                     10 non-null object\n",
      "Census_OSSkuName                                     10 non-null object\n",
      "Census_OSInstallTypeName                             10 non-null object\n",
      "Census_OSInstallLanguageIdentifier                   10 non-null int64\n",
      "Census_OSUILocaleIdentifier                          10 non-null int64\n",
      "Census_OSWUAutoUpdateOptionsName                     10 non-null object\n",
      "Census_IsPortableOperatingSystem                     10 non-null int64\n",
      "Census_GenuineStateName                              10 non-null object\n",
      "Census_ActivationChannel                             10 non-null object\n",
      "Census_IsFlightingInternal                           3 non-null float64\n",
      "Census_IsFlightsDisabled                             10 non-null int64\n",
      "Census_FlightRing                                    10 non-null object\n",
      "Census_ThresholdOptIn                                5 non-null float64\n",
      "Census_FirmwareManufacturerIdentifier                10 non-null int64\n",
      "Census_FirmwareVersionIdentifier                     10 non-null int64\n",
      "Census_IsSecureBootEnabled                           10 non-null int64\n",
      "Census_IsWIMBootEnabled                              5 non-null float64\n",
      "Census_IsVirtualDevice                               10 non-null int64\n",
      "Census_IsTouchEnabled                                10 non-null int64\n",
      "Census_IsPenCapable                                  10 non-null int64\n",
      "Census_IsAlwaysOnAlwaysConnectedCapable              10 non-null int64\n",
      "Wdft_IsGamer                                         10 non-null int64\n",
      "Wdft_RegionIdentifier                                10 non-null int64\n",
      "HasDetections                                        10 non-null int64\n",
      "dtypes: float64(9), int64(46), object(28)\n",
      "memory usage: 6.6+ KB\n"
     ]
    }
   ],
   "source": [
    "sample_chunk.info()"
   ]
  },
  {
   "cell_type": "markdown",
   "metadata": {},
   "source": [
    "Optimse data types to fix reading issues \n",
    "* objects: categories\n",
    "* Binary values: int8\n",
    "* Binary values with missing values: float16 (int does not understand nan)\n",
    "* 64 bits: 32, or 16 of possible"
   ]
  },
  {
   "cell_type": "code",
   "execution_count": 9,
   "metadata": {
    "collapsed": true
   },
   "outputs": [],
   "source": [
    "dtypes = {\n",
    "        'MachineIdentifier':                                    'category',\n",
    "        'ProductName':                                          'category',\n",
    "        'EngineVersion':                                        'category',\n",
    "        'AppVersion':                                           'category',\n",
    "        'AvSigVersion':                                         'category',\n",
    "        'IsBeta':                                               'int8',\n",
    "        'RtpStateBitfield':                                     'float16',\n",
    "        'IsSxsPassiveMode':                                     'int8',\n",
    "        'DefaultBrowsersIdentifier':                            'float16',\n",
    "        'AVProductStatesIdentifier':                            'float32',\n",
    "        'AVProductsInstalled':                                  'float16',\n",
    "        'AVProductsEnabled':                                    'float16',\n",
    "        'HasTpm':                                               'int8',\n",
    "        'CountryIdentifier':                                    'int16',\n",
    "        'CityIdentifier':                                       'float32',\n",
    "        'OrganizationIdentifier':                               'float16',\n",
    "        'GeoNameIdentifier':                                    'float16',\n",
    "        'LocaleEnglishNameIdentifier':                          'int8',\n",
    "        'Platform':                                             'category',\n",
    "        'Processor':                                            'category',\n",
    "        'OsVer':                                                'category',\n",
    "        'OsBuild':                                              'int16',\n",
    "        'OsSuite':                                              'int16',\n",
    "        'OsPlatformSubRelease':                                 'category',\n",
    "        'OsBuildLab':                                           'category',\n",
    "        'SkuEdition':                                           'category',\n",
    "        'IsProtected':                                          'float16',\n",
    "        'AutoSampleOptIn':                                      'int8',\n",
    "        'PuaMode':                                              'category',\n",
    "        'SMode':                                                'float16',\n",
    "        'IeVerIdentifier':                                      'float16',\n",
    "        'SmartScreen':                                          'category',\n",
    "        'Firewall':                                             'float16',\n",
    "        'UacLuaenable':                                         'float32',\n",
    "        'Census_MDC2FormFactor':                                'category',\n",
    "        'Census_DeviceFamily':                                  'category',\n",
    "        'Census_OEMNameIdentifier':                             'float16',\n",
    "        'Census_OEMModelIdentifier':                            'float32',\n",
    "        'Census_ProcessorCoreCount':                            'float16',\n",
    "        'Census_ProcessorManufacturerIdentifier':               'float16',\n",
    "        'Census_ProcessorModelIdentifier':                      'float16',\n",
    "        'Census_ProcessorClass':                                'category',\n",
    "        'Census_PrimaryDiskTotalCapacity':                      'float32',\n",
    "        'Census_PrimaryDiskTypeName':                           'category',\n",
    "        'Census_SystemVolumeTotalCapacity':                     'float32',\n",
    "        'Census_HasOpticalDiskDrive':                           'int8',\n",
    "        'Census_TotalPhysicalRAM':                              'float32',\n",
    "        'Census_ChassisTypeName':                               'category',\n",
    "        'Census_InternalPrimaryDiagonalDisplaySizeInInches':    'float16',\n",
    "        'Census_InternalPrimaryDisplayResolutionHorizontal':    'float16',\n",
    "        'Census_InternalPrimaryDisplayResolutionVertical':      'float16',\n",
    "        'Census_PowerPlatformRoleName':                         'category',\n",
    "        'Census_InternalBatteryType':                           'category',\n",
    "        'Census_InternalBatteryNumberOfCharges':                'float32',\n",
    "        'Census_OSVersion':                                     'category',\n",
    "        'Census_OSArchitecture':                                'category',\n",
    "        'Census_OSBranch':                                      'category',\n",
    "        'Census_OSBuildNumber':                                 'int16',\n",
    "        'Census_OSBuildRevision':                               'int32',\n",
    "        'Census_OSEdition':                                     'category',\n",
    "        'Census_OSSkuName':                                     'category',\n",
    "        'Census_OSInstallTypeName':                             'category',\n",
    "        'Census_OSInstallLanguageIdentifier':                   'float16',\n",
    "        'Census_OSUILocaleIdentifier':                          'int16',\n",
    "        'Census_OSWUAutoUpdateOptionsName':                     'category',\n",
    "        'Census_IsPortableOperatingSystem':                     'int8',\n",
    "        'Census_GenuineStateName':                              'category',\n",
    "        'Census_ActivationChannel':                             'category',\n",
    "        'Census_IsFlightingInternal':                           'float16',\n",
    "        'Census_IsFlightsDisabled':                             'float16',\n",
    "        'Census_FlightRing':                                    'category',\n",
    "        'Census_ThresholdOptIn':                                'float16',\n",
    "        'Census_FirmwareManufacturerIdentifier':                'float16',\n",
    "        'Census_FirmwareVersionIdentifier':                     'float32',\n",
    "        'Census_IsSecureBootEnabled':                           'int8',\n",
    "        'Census_IsWIMBootEnabled':                              'float16',\n",
    "        'Census_IsVirtualDevice':                               'float16',\n",
    "        'Census_IsTouchEnabled':                                'int8',\n",
    "        'Census_IsPenCapable':                                  'int8',\n",
    "        'Census_IsAlwaysOnAlwaysConnectedCapable':              'float16',\n",
    "        'Wdft_IsGamer':                                         'float16',\n",
    "        'Wdft_RegionIdentifier':                                'float16',\n",
    "        'HasDetections':                                        'int8'\n",
    "        }"
   ]
  },
  {
   "cell_type": "code",
   "execution_count": 10,
   "metadata": {},
   "outputs": [
    {
     "name": "stdout",
     "output_type": "stream",
     "text": [
      "Start Time: 3.110202240900715e-07\n",
      "End Time: 191.93537590681834\n"
     ]
    }
   ],
   "source": [
    "t_start = time.clock()\n",
    "train = pd.read_csv('train.csv',dtype=dtypes)\n",
    "t_end = time.clock()\n",
    "\n",
    "print(\"Start Time: {}\".format(t_start))\n",
    "print(\"End Time: {}\".format(t_end))"
   ]
  },
  {
   "cell_type": "code",
   "execution_count": 24,
   "metadata": {},
   "outputs": [
    {
     "name": "stdout",
     "output_type": "stream",
     "text": [
      "Start Time: 717.9984137968571\n",
      "End Time: 905.9707728075018\n"
     ]
    }
   ],
   "source": [
    "retained_cols= list(set(train.columns)-set(['HasDetections']))\n",
    "\n",
    "t_start = time.clock()\n",
    "test = pd.read_csv('test.csv',usecols = retained_cols,dtype=dtypes)\n",
    "t_end = time.clock()\n",
    "\n",
    "print(\"Start Time: {}\".format(t_start))\n",
    "print(\"End Time: {}\".format(t_end))"
   ]
  },
  {
   "cell_type": "code",
   "execution_count": 164,
   "metadata": {
    "scrolled": false
   },
   "outputs": [
    {
     "name": "stdout",
     "output_type": "stream",
     "text": [
      "<class 'pandas.core.frame.DataFrame'>\n",
      "RangeIndex: 8921483 entries, 0 to 8921482\n",
      "Data columns (total 78 columns):\n",
      "Census_FlightRing                                    category\n",
      "SMode                                                float16\n",
      "AVProductsInstalled                                  float16\n",
      "Census_InternalBatteryNumberOfCharges                float32\n",
      "ProductName                                          category\n",
      "Census_OSUILocaleIdentifier                          int16\n",
      "Census_IsVirtualDevice                               float16\n",
      "SkuEdition                                           category\n",
      "AutoSampleOptIn                                      int8\n",
      "CityIdentifier                                       float32\n",
      "Wdft_RegionIdentifier                                float16\n",
      "Platform                                             category\n",
      "Census_ThresholdOptIn                                float16\n",
      "AppVersion                                           category\n",
      "Census_ChassisTypeName                               category\n",
      "Census_TotalPhysicalRAM                              float32\n",
      "CountryIdentifier                                    int16\n",
      "Census_IsAlwaysOnAlwaysConnectedCapable              float16\n",
      "Census_MDC2FormFactor                                category\n",
      "Census_IsPenCapable                                  int8\n",
      "OsBuildLab                                           category\n",
      "Census_IsSecureBootEnabled                           int8\n",
      "Census_GenuineStateName                              category\n",
      "Census_FirmwareManufacturerIdentifier                float16\n",
      "Processor                                            category\n",
      "Census_DeviceFamily                                  category\n",
      "AvSigVersion                                         category\n",
      "IeVerIdentifier                                      float16\n",
      "Firewall                                             float16\n",
      "AVProductStatesIdentifier                            float32\n",
      "Census_InternalPrimaryDiagonalDisplaySizeInInches    float16\n",
      "Wdft_IsGamer                                         float16\n",
      "IsSxsPassiveMode                                     int8\n",
      "IsBeta                                               int8\n",
      "Census_IsTouchEnabled                                int8\n",
      "Census_ProcessorCoreCount                            float16\n",
      "Census_InternalPrimaryDisplayResolutionVertical      float16\n",
      "OsBuild                                              int16\n",
      "GeoNameIdentifier                                    float16\n",
      "Census_OSBuildNumber                                 int16\n",
      "Census_OEMNameIdentifier                             float16\n",
      "OsSuite                                              int16\n",
      "OsVer                                                category\n",
      "LocaleEnglishNameIdentifier                          int8\n",
      "Census_OSSkuName                                     category\n",
      "AVProductsEnabled                                    float16\n",
      "Census_OSWUAutoUpdateOptionsName                     category\n",
      "UacLuaenable                                         float32\n",
      "Census_ProcessorModelIdentifier                      float16\n",
      "Census_OSEdition                                     category\n",
      "HasTpm                                               int8\n",
      "RtpStateBitfield                                     float16\n",
      "Census_ProcessorManufacturerIdentifier               float16\n",
      "Census_OSBranch                                      category\n",
      "Census_OSInstallTypeName                             category\n",
      "Census_IsWIMBootEnabled                              float16\n",
      "Census_OSBuildRevision                               int32\n",
      "Census_OSInstallLanguageIdentifier                   float16\n",
      "Census_ActivationChannel                             category\n",
      "Census_IsFlightsDisabled                             float16\n",
      "IsProtected                                          float16\n",
      "HasDetections                                        int8\n",
      "Census_IsPortableOperatingSystem                     int8\n",
      "OrganizationIdentifier                               float16\n",
      "Census_OEMModelIdentifier                            float32\n",
      "Census_PrimaryDiskTypeName                           category\n",
      "SmartScreen                                          category\n",
      "Census_OSArchitecture                                category\n",
      "Census_FirmwareVersionIdentifier                     float32\n",
      "Census_SystemVolumeTotalCapacity                     float32\n",
      "OsPlatformSubRelease                                 category\n",
      "Census_OSVersion                                     category\n",
      "Census_InternalPrimaryDisplayResolutionHorizontal    float16\n",
      "MachineIdentifier                                    category\n",
      "EngineVersion                                        category\n",
      "Census_PowerPlatformRoleName                         category\n",
      "Census_HasOpticalDiskDrive                           int8\n",
      "Census_PrimaryDiskTotalCapacity                      float32\n",
      "dtypes: category(27), float16(25), float32(9), int16(5), int32(1), int8(11)\n",
      "memory usage: 1.6 GB\n"
     ]
    }
   ],
   "source": [
    "train.info()"
   ]
  },
  {
   "cell_type": "code",
   "execution_count": 25,
   "metadata": {
    "scrolled": false
   },
   "outputs": [
    {
     "name": "stdout",
     "output_type": "stream",
     "text": [
      "<class 'pandas.core.frame.DataFrame'>\n",
      "RangeIndex: 7853253 entries, 0 to 7853252\n",
      "Data columns (total 82 columns):\n",
      "MachineIdentifier                                    category\n",
      "ProductName                                          category\n",
      "EngineVersion                                        category\n",
      "AppVersion                                           category\n",
      "AvSigVersion                                         category\n",
      "IsBeta                                               int8\n",
      "RtpStateBitfield                                     float16\n",
      "IsSxsPassiveMode                                     int8\n",
      "DefaultBrowsersIdentifier                            float16\n",
      "AVProductStatesIdentifier                            float32\n",
      "AVProductsInstalled                                  float16\n",
      "AVProductsEnabled                                    float16\n",
      "HasTpm                                               int8\n",
      "CountryIdentifier                                    int16\n",
      "CityIdentifier                                       float32\n",
      "OrganizationIdentifier                               float16\n",
      "GeoNameIdentifier                                    float16\n",
      "LocaleEnglishNameIdentifier                          int8\n",
      "Platform                                             category\n",
      "Processor                                            category\n",
      "OsVer                                                category\n",
      "OsBuild                                              int16\n",
      "OsSuite                                              int16\n",
      "OsPlatformSubRelease                                 category\n",
      "OsBuildLab                                           category\n",
      "SkuEdition                                           category\n",
      "IsProtected                                          float16\n",
      "AutoSampleOptIn                                      int8\n",
      "PuaMode                                              category\n",
      "SMode                                                float16\n",
      "IeVerIdentifier                                      float16\n",
      "SmartScreen                                          category\n",
      "Firewall                                             float16\n",
      "UacLuaenable                                         float32\n",
      "Census_MDC2FormFactor                                category\n",
      "Census_DeviceFamily                                  category\n",
      "Census_OEMNameIdentifier                             float16\n",
      "Census_OEMModelIdentifier                            float32\n",
      "Census_ProcessorCoreCount                            float16\n",
      "Census_ProcessorManufacturerIdentifier               float16\n",
      "Census_ProcessorModelIdentifier                      float16\n",
      "Census_ProcessorClass                                category\n",
      "Census_PrimaryDiskTotalCapacity                      float32\n",
      "Census_PrimaryDiskTypeName                           category\n",
      "Census_SystemVolumeTotalCapacity                     float32\n",
      "Census_HasOpticalDiskDrive                           int8\n",
      "Census_TotalPhysicalRAM                              float32\n",
      "Census_ChassisTypeName                               category\n",
      "Census_InternalPrimaryDiagonalDisplaySizeInInches    float16\n",
      "Census_InternalPrimaryDisplayResolutionHorizontal    float16\n",
      "Census_InternalPrimaryDisplayResolutionVertical      float16\n",
      "Census_PowerPlatformRoleName                         category\n",
      "Census_InternalBatteryType                           category\n",
      "Census_InternalBatteryNumberOfCharges                float32\n",
      "Census_OSVersion                                     category\n",
      "Census_OSArchitecture                                category\n",
      "Census_OSBranch                                      category\n",
      "Census_OSBuildNumber                                 int16\n",
      "Census_OSBuildRevision                               int32\n",
      "Census_OSEdition                                     category\n",
      "Census_OSSkuName                                     category\n",
      "Census_OSInstallTypeName                             category\n",
      "Census_OSInstallLanguageIdentifier                   float16\n",
      "Census_OSUILocaleIdentifier                          int16\n",
      "Census_OSWUAutoUpdateOptionsName                     category\n",
      "Census_IsPortableOperatingSystem                     int8\n",
      "Census_GenuineStateName                              category\n",
      "Census_ActivationChannel                             category\n",
      "Census_IsFlightingInternal                           float16\n",
      "Census_IsFlightsDisabled                             float16\n",
      "Census_FlightRing                                    category\n",
      "Census_ThresholdOptIn                                float16\n",
      "Census_FirmwareManufacturerIdentifier                float16\n",
      "Census_FirmwareVersionIdentifier                     float32\n",
      "Census_IsSecureBootEnabled                           int8\n",
      "Census_IsWIMBootEnabled                              float16\n",
      "Census_IsVirtualDevice                               float16\n",
      "Census_IsTouchEnabled                                int8\n",
      "Census_IsPenCapable                                  int8\n",
      "Census_IsAlwaysOnAlwaysConnectedCapable              float16\n",
      "Wdft_IsGamer                                         float16\n",
      "Wdft_RegionIdentifier                                float16\n",
      "dtypes: category(30), float16(27), float32(9), int16(5), int32(1), int8(10)\n",
      "memory usage: 1.5 GB\n"
     ]
    }
   ],
   "source": [
    "test.info()"
   ]
  },
  {
   "cell_type": "markdown",
   "metadata": {},
   "source": [
    "<a id =\"EDA\"></a>\n",
    "**2. Exploratory Data Analysis**\n",
    "\n",
    "* Handle missing values\n",
    "* Handle columns that has high cardinality \n"
   ]
  },
  {
   "cell_type": "code",
   "execution_count": 26,
   "metadata": {
    "scrolled": true
   },
   "outputs": [
    {
     "data": {
      "text/html": [
       "<div>\n",
       "<style scoped>\n",
       "    .dataframe tbody tr th:only-of-type {\n",
       "        vertical-align: middle;\n",
       "    }\n",
       "\n",
       "    .dataframe tbody tr th {\n",
       "        vertical-align: top;\n",
       "    }\n",
       "\n",
       "    .dataframe thead th {\n",
       "        text-align: right;\n",
       "    }\n",
       "</style>\n",
       "<table border=\"1\" class=\"dataframe\">\n",
       "  <thead>\n",
       "    <tr style=\"text-align: right;\">\n",
       "      <th></th>\n",
       "      <th>MachineIdentifier</th>\n",
       "      <th>ProductName</th>\n",
       "      <th>EngineVersion</th>\n",
       "      <th>AppVersion</th>\n",
       "      <th>AvSigVersion</th>\n",
       "      <th>IsBeta</th>\n",
       "      <th>RtpStateBitfield</th>\n",
       "      <th>IsSxsPassiveMode</th>\n",
       "      <th>DefaultBrowsersIdentifier</th>\n",
       "      <th>AVProductStatesIdentifier</th>\n",
       "      <th>...</th>\n",
       "      <th>Census_FirmwareVersionIdentifier</th>\n",
       "      <th>Census_IsSecureBootEnabled</th>\n",
       "      <th>Census_IsWIMBootEnabled</th>\n",
       "      <th>Census_IsVirtualDevice</th>\n",
       "      <th>Census_IsTouchEnabled</th>\n",
       "      <th>Census_IsPenCapable</th>\n",
       "      <th>Census_IsAlwaysOnAlwaysConnectedCapable</th>\n",
       "      <th>Wdft_IsGamer</th>\n",
       "      <th>Wdft_RegionIdentifier</th>\n",
       "      <th>HasDetections</th>\n",
       "    </tr>\n",
       "  </thead>\n",
       "  <tbody>\n",
       "    <tr>\n",
       "      <th>0</th>\n",
       "      <td>0000028988387b115f69f31a3bf04f09</td>\n",
       "      <td>win8defender</td>\n",
       "      <td>1.1.15100.1</td>\n",
       "      <td>4.18.1807.18075</td>\n",
       "      <td>1.273.1735.0</td>\n",
       "      <td>0</td>\n",
       "      <td>7.0</td>\n",
       "      <td>0</td>\n",
       "      <td>NaN</td>\n",
       "      <td>53447.0</td>\n",
       "      <td>...</td>\n",
       "      <td>36144.0</td>\n",
       "      <td>0</td>\n",
       "      <td>NaN</td>\n",
       "      <td>0.0</td>\n",
       "      <td>0</td>\n",
       "      <td>0</td>\n",
       "      <td>0.0</td>\n",
       "      <td>0.0</td>\n",
       "      <td>10.0</td>\n",
       "      <td>0</td>\n",
       "    </tr>\n",
       "    <tr>\n",
       "      <th>1</th>\n",
       "      <td>000007535c3f730efa9ea0b7ef1bd645</td>\n",
       "      <td>win8defender</td>\n",
       "      <td>1.1.14600.4</td>\n",
       "      <td>4.13.17134.1</td>\n",
       "      <td>1.263.48.0</td>\n",
       "      <td>0</td>\n",
       "      <td>7.0</td>\n",
       "      <td>0</td>\n",
       "      <td>NaN</td>\n",
       "      <td>53447.0</td>\n",
       "      <td>...</td>\n",
       "      <td>57858.0</td>\n",
       "      <td>0</td>\n",
       "      <td>NaN</td>\n",
       "      <td>0.0</td>\n",
       "      <td>0</td>\n",
       "      <td>0</td>\n",
       "      <td>0.0</td>\n",
       "      <td>0.0</td>\n",
       "      <td>8.0</td>\n",
       "      <td>0</td>\n",
       "    </tr>\n",
       "    <tr>\n",
       "      <th>2</th>\n",
       "      <td>000007905a28d863f6d0d597892cd692</td>\n",
       "      <td>win8defender</td>\n",
       "      <td>1.1.15100.1</td>\n",
       "      <td>4.18.1807.18075</td>\n",
       "      <td>1.273.1341.0</td>\n",
       "      <td>0</td>\n",
       "      <td>7.0</td>\n",
       "      <td>0</td>\n",
       "      <td>NaN</td>\n",
       "      <td>53447.0</td>\n",
       "      <td>...</td>\n",
       "      <td>52682.0</td>\n",
       "      <td>0</td>\n",
       "      <td>NaN</td>\n",
       "      <td>0.0</td>\n",
       "      <td>0</td>\n",
       "      <td>0</td>\n",
       "      <td>0.0</td>\n",
       "      <td>0.0</td>\n",
       "      <td>3.0</td>\n",
       "      <td>0</td>\n",
       "    </tr>\n",
       "    <tr>\n",
       "      <th>3</th>\n",
       "      <td>00000b11598a75ea8ba1beea8459149f</td>\n",
       "      <td>win8defender</td>\n",
       "      <td>1.1.15100.1</td>\n",
       "      <td>4.18.1807.18075</td>\n",
       "      <td>1.273.1527.0</td>\n",
       "      <td>0</td>\n",
       "      <td>7.0</td>\n",
       "      <td>0</td>\n",
       "      <td>NaN</td>\n",
       "      <td>53447.0</td>\n",
       "      <td>...</td>\n",
       "      <td>20050.0</td>\n",
       "      <td>0</td>\n",
       "      <td>NaN</td>\n",
       "      <td>0.0</td>\n",
       "      <td>0</td>\n",
       "      <td>0</td>\n",
       "      <td>0.0</td>\n",
       "      <td>0.0</td>\n",
       "      <td>3.0</td>\n",
       "      <td>1</td>\n",
       "    </tr>\n",
       "    <tr>\n",
       "      <th>4</th>\n",
       "      <td>000014a5f00daa18e76b81417eeb99fc</td>\n",
       "      <td>win8defender</td>\n",
       "      <td>1.1.15100.1</td>\n",
       "      <td>4.18.1807.18075</td>\n",
       "      <td>1.273.1379.0</td>\n",
       "      <td>0</td>\n",
       "      <td>7.0</td>\n",
       "      <td>0</td>\n",
       "      <td>NaN</td>\n",
       "      <td>53447.0</td>\n",
       "      <td>...</td>\n",
       "      <td>19844.0</td>\n",
       "      <td>0</td>\n",
       "      <td>0.0</td>\n",
       "      <td>0.0</td>\n",
       "      <td>0</td>\n",
       "      <td>0</td>\n",
       "      <td>0.0</td>\n",
       "      <td>0.0</td>\n",
       "      <td>1.0</td>\n",
       "      <td>1</td>\n",
       "    </tr>\n",
       "  </tbody>\n",
       "</table>\n",
       "<p>5 rows × 83 columns</p>\n",
       "</div>"
      ],
      "text/plain": [
       "                  MachineIdentifier   ProductName EngineVersion  \\\n",
       "0  0000028988387b115f69f31a3bf04f09  win8defender   1.1.15100.1   \n",
       "1  000007535c3f730efa9ea0b7ef1bd645  win8defender   1.1.14600.4   \n",
       "2  000007905a28d863f6d0d597892cd692  win8defender   1.1.15100.1   \n",
       "3  00000b11598a75ea8ba1beea8459149f  win8defender   1.1.15100.1   \n",
       "4  000014a5f00daa18e76b81417eeb99fc  win8defender   1.1.15100.1   \n",
       "\n",
       "        AppVersion  AvSigVersion  IsBeta  RtpStateBitfield  IsSxsPassiveMode  \\\n",
       "0  4.18.1807.18075  1.273.1735.0       0               7.0                 0   \n",
       "1     4.13.17134.1    1.263.48.0       0               7.0                 0   \n",
       "2  4.18.1807.18075  1.273.1341.0       0               7.0                 0   \n",
       "3  4.18.1807.18075  1.273.1527.0       0               7.0                 0   \n",
       "4  4.18.1807.18075  1.273.1379.0       0               7.0                 0   \n",
       "\n",
       "   DefaultBrowsersIdentifier  AVProductStatesIdentifier  ...  \\\n",
       "0                        NaN                    53447.0  ...   \n",
       "1                        NaN                    53447.0  ...   \n",
       "2                        NaN                    53447.0  ...   \n",
       "3                        NaN                    53447.0  ...   \n",
       "4                        NaN                    53447.0  ...   \n",
       "\n",
       "   Census_FirmwareVersionIdentifier  Census_IsSecureBootEnabled  \\\n",
       "0                           36144.0                           0   \n",
       "1                           57858.0                           0   \n",
       "2                           52682.0                           0   \n",
       "3                           20050.0                           0   \n",
       "4                           19844.0                           0   \n",
       "\n",
       "   Census_IsWIMBootEnabled  Census_IsVirtualDevice  Census_IsTouchEnabled  \\\n",
       "0                      NaN                     0.0                      0   \n",
       "1                      NaN                     0.0                      0   \n",
       "2                      NaN                     0.0                      0   \n",
       "3                      NaN                     0.0                      0   \n",
       "4                      0.0                     0.0                      0   \n",
       "\n",
       "   Census_IsPenCapable  Census_IsAlwaysOnAlwaysConnectedCapable  Wdft_IsGamer  \\\n",
       "0                    0                                      0.0           0.0   \n",
       "1                    0                                      0.0           0.0   \n",
       "2                    0                                      0.0           0.0   \n",
       "3                    0                                      0.0           0.0   \n",
       "4                    0                                      0.0           0.0   \n",
       "\n",
       "  Wdft_RegionIdentifier HasDetections  \n",
       "0                  10.0             0  \n",
       "1                   8.0             0  \n",
       "2                   3.0             0  \n",
       "3                   3.0             1  \n",
       "4                   1.0             1  \n",
       "\n",
       "[5 rows x 83 columns]"
      ]
     },
     "execution_count": 26,
     "metadata": {},
     "output_type": "execute_result"
    }
   ],
   "source": [
    "#Check first few rows of the training dataset\n",
    "train.head()"
   ]
  },
  {
   "cell_type": "code",
   "execution_count": 27,
   "metadata": {},
   "outputs": [
    {
     "data": {
      "text/plain": [
       "(8921483, 83)"
      ]
     },
     "execution_count": 27,
     "metadata": {},
     "output_type": "execute_result"
    }
   ],
   "source": [
    "#Large dataset to analysze: 8.9 million rows and 83 columns\n",
    "train.shape"
   ]
  },
  {
   "cell_type": "code",
   "execution_count": 28,
   "metadata": {
    "scrolled": true
   },
   "outputs": [
    {
     "data": {
      "text/html": [
       "<div>\n",
       "<style scoped>\n",
       "    .dataframe tbody tr th:only-of-type {\n",
       "        vertical-align: middle;\n",
       "    }\n",
       "\n",
       "    .dataframe tbody tr th {\n",
       "        vertical-align: top;\n",
       "    }\n",
       "\n",
       "    .dataframe thead th {\n",
       "        text-align: right;\n",
       "    }\n",
       "</style>\n",
       "<table border=\"1\" class=\"dataframe\">\n",
       "  <thead>\n",
       "    <tr style=\"text-align: right;\">\n",
       "      <th></th>\n",
       "      <th>IsBeta</th>\n",
       "      <th>RtpStateBitfield</th>\n",
       "      <th>IsSxsPassiveMode</th>\n",
       "      <th>DefaultBrowsersIdentifier</th>\n",
       "      <th>AVProductStatesIdentifier</th>\n",
       "      <th>AVProductsInstalled</th>\n",
       "      <th>AVProductsEnabled</th>\n",
       "      <th>HasTpm</th>\n",
       "      <th>CountryIdentifier</th>\n",
       "      <th>CityIdentifier</th>\n",
       "      <th>...</th>\n",
       "      <th>Census_FirmwareVersionIdentifier</th>\n",
       "      <th>Census_IsSecureBootEnabled</th>\n",
       "      <th>Census_IsWIMBootEnabled</th>\n",
       "      <th>Census_IsVirtualDevice</th>\n",
       "      <th>Census_IsTouchEnabled</th>\n",
       "      <th>Census_IsPenCapable</th>\n",
       "      <th>Census_IsAlwaysOnAlwaysConnectedCapable</th>\n",
       "      <th>Wdft_IsGamer</th>\n",
       "      <th>Wdft_RegionIdentifier</th>\n",
       "      <th>HasDetections</th>\n",
       "    </tr>\n",
       "  </thead>\n",
       "  <tbody>\n",
       "    <tr>\n",
       "      <th>count</th>\n",
       "      <td>8921483.00</td>\n",
       "      <td>8889165.00</td>\n",
       "      <td>8921483.00</td>\n",
       "      <td>433438.00</td>\n",
       "      <td>8885262.00</td>\n",
       "      <td>8885262.00</td>\n",
       "      <td>8885262.00</td>\n",
       "      <td>8921483.00</td>\n",
       "      <td>8921483.00</td>\n",
       "      <td>8596074.00</td>\n",
       "      <td>...</td>\n",
       "      <td>8761350.00</td>\n",
       "      <td>8921483.00</td>\n",
       "      <td>3261780.00</td>\n",
       "      <td>8905530.00</td>\n",
       "      <td>8921483.00</td>\n",
       "      <td>8921483.00</td>\n",
       "      <td>8850140.00</td>\n",
       "      <td>8618032.00</td>\n",
       "      <td>8618032.00</td>\n",
       "      <td>8921483.00</td>\n",
       "    </tr>\n",
       "    <tr>\n",
       "      <th>mean</th>\n",
       "      <td>0.00</td>\n",
       "      <td>nan</td>\n",
       "      <td>0.02</td>\n",
       "      <td>nan</td>\n",
       "      <td>49483.20</td>\n",
       "      <td>nan</td>\n",
       "      <td>nan</td>\n",
       "      <td>0.99</td>\n",
       "      <td>108.05</td>\n",
       "      <td>80491.52</td>\n",
       "      <td>...</td>\n",
       "      <td>32680.55</td>\n",
       "      <td>0.49</td>\n",
       "      <td>0.00</td>\n",
       "      <td>0.01</td>\n",
       "      <td>0.13</td>\n",
       "      <td>0.04</td>\n",
       "      <td>nan</td>\n",
       "      <td>nan</td>\n",
       "      <td>nan</td>\n",
       "      <td>0.50</td>\n",
       "    </tr>\n",
       "    <tr>\n",
       "      <th>std</th>\n",
       "      <td>0.00</td>\n",
       "      <td>0.00</td>\n",
       "      <td>0.13</td>\n",
       "      <td>nan</td>\n",
       "      <td>13799.94</td>\n",
       "      <td>0.00</td>\n",
       "      <td>0.00</td>\n",
       "      <td>0.11</td>\n",
       "      <td>63.05</td>\n",
       "      <td>48734.61</td>\n",
       "      <td>...</td>\n",
       "      <td>21126.12</td>\n",
       "      <td>0.50</td>\n",
       "      <td>0.00</td>\n",
       "      <td>0.08</td>\n",
       "      <td>0.33</td>\n",
       "      <td>0.19</td>\n",
       "      <td>0.00</td>\n",
       "      <td>0.00</td>\n",
       "      <td>0.00</td>\n",
       "      <td>0.50</td>\n",
       "    </tr>\n",
       "    <tr>\n",
       "      <th>min</th>\n",
       "      <td>0.00</td>\n",
       "      <td>0.00</td>\n",
       "      <td>0.00</td>\n",
       "      <td>1.00</td>\n",
       "      <td>3.00</td>\n",
       "      <td>0.00</td>\n",
       "      <td>0.00</td>\n",
       "      <td>0.00</td>\n",
       "      <td>1.00</td>\n",
       "      <td>5.00</td>\n",
       "      <td>...</td>\n",
       "      <td>3.00</td>\n",
       "      <td>0.00</td>\n",
       "      <td>0.00</td>\n",
       "      <td>0.00</td>\n",
       "      <td>0.00</td>\n",
       "      <td>0.00</td>\n",
       "      <td>0.00</td>\n",
       "      <td>0.00</td>\n",
       "      <td>1.00</td>\n",
       "      <td>0.00</td>\n",
       "    </tr>\n",
       "    <tr>\n",
       "      <th>25%</th>\n",
       "      <td>0.00</td>\n",
       "      <td>7.00</td>\n",
       "      <td>0.00</td>\n",
       "      <td>788.00</td>\n",
       "      <td>49480.00</td>\n",
       "      <td>1.00</td>\n",
       "      <td>1.00</td>\n",
       "      <td>1.00</td>\n",
       "      <td>51.00</td>\n",
       "      <td>36825.00</td>\n",
       "      <td>...</td>\n",
       "      <td>13156.00</td>\n",
       "      <td>0.00</td>\n",
       "      <td>0.00</td>\n",
       "      <td>0.00</td>\n",
       "      <td>0.00</td>\n",
       "      <td>0.00</td>\n",
       "      <td>0.00</td>\n",
       "      <td>0.00</td>\n",
       "      <td>3.00</td>\n",
       "      <td>0.00</td>\n",
       "    </tr>\n",
       "    <tr>\n",
       "      <th>50%</th>\n",
       "      <td>0.00</td>\n",
       "      <td>7.00</td>\n",
       "      <td>0.00</td>\n",
       "      <td>1632.00</td>\n",
       "      <td>53447.00</td>\n",
       "      <td>1.00</td>\n",
       "      <td>1.00</td>\n",
       "      <td>1.00</td>\n",
       "      <td>97.00</td>\n",
       "      <td>82373.00</td>\n",
       "      <td>...</td>\n",
       "      <td>33070.00</td>\n",
       "      <td>0.00</td>\n",
       "      <td>0.00</td>\n",
       "      <td>0.00</td>\n",
       "      <td>0.00</td>\n",
       "      <td>0.00</td>\n",
       "      <td>0.00</td>\n",
       "      <td>0.00</td>\n",
       "      <td>10.00</td>\n",
       "      <td>0.00</td>\n",
       "    </tr>\n",
       "    <tr>\n",
       "      <th>75%</th>\n",
       "      <td>0.00</td>\n",
       "      <td>7.00</td>\n",
       "      <td>0.00</td>\n",
       "      <td>2372.00</td>\n",
       "      <td>53447.00</td>\n",
       "      <td>2.00</td>\n",
       "      <td>1.00</td>\n",
       "      <td>1.00</td>\n",
       "      <td>162.00</td>\n",
       "      <td>123700.00</td>\n",
       "      <td>...</td>\n",
       "      <td>52436.00</td>\n",
       "      <td>1.00</td>\n",
       "      <td>0.00</td>\n",
       "      <td>0.00</td>\n",
       "      <td>0.00</td>\n",
       "      <td>0.00</td>\n",
       "      <td>0.00</td>\n",
       "      <td>1.00</td>\n",
       "      <td>11.00</td>\n",
       "      <td>1.00</td>\n",
       "    </tr>\n",
       "    <tr>\n",
       "      <th>max</th>\n",
       "      <td>1.00</td>\n",
       "      <td>35.00</td>\n",
       "      <td>1.00</td>\n",
       "      <td>3212.00</td>\n",
       "      <td>70507.00</td>\n",
       "      <td>7.00</td>\n",
       "      <td>5.00</td>\n",
       "      <td>1.00</td>\n",
       "      <td>222.00</td>\n",
       "      <td>167962.00</td>\n",
       "      <td>...</td>\n",
       "      <td>72105.00</td>\n",
       "      <td>1.00</td>\n",
       "      <td>1.00</td>\n",
       "      <td>1.00</td>\n",
       "      <td>1.00</td>\n",
       "      <td>1.00</td>\n",
       "      <td>1.00</td>\n",
       "      <td>1.00</td>\n",
       "      <td>15.00</td>\n",
       "      <td>1.00</td>\n",
       "    </tr>\n",
       "  </tbody>\n",
       "</table>\n",
       "<p>8 rows × 53 columns</p>\n",
       "</div>"
      ],
      "text/plain": [
       "          IsBeta  RtpStateBitfield  IsSxsPassiveMode  \\\n",
       "count 8921483.00        8889165.00        8921483.00   \n",
       "mean        0.00               nan              0.02   \n",
       "std         0.00              0.00              0.13   \n",
       "min         0.00              0.00              0.00   \n",
       "25%         0.00              7.00              0.00   \n",
       "50%         0.00              7.00              0.00   \n",
       "75%         0.00              7.00              0.00   \n",
       "max         1.00             35.00              1.00   \n",
       "\n",
       "       DefaultBrowsersIdentifier  AVProductStatesIdentifier  \\\n",
       "count                  433438.00                 8885262.00   \n",
       "mean                         nan                   49483.20   \n",
       "std                          nan                   13799.94   \n",
       "min                         1.00                       3.00   \n",
       "25%                       788.00                   49480.00   \n",
       "50%                      1632.00                   53447.00   \n",
       "75%                      2372.00                   53447.00   \n",
       "max                      3212.00                   70507.00   \n",
       "\n",
       "       AVProductsInstalled  AVProductsEnabled     HasTpm  CountryIdentifier  \\\n",
       "count           8885262.00         8885262.00 8921483.00         8921483.00   \n",
       "mean                   nan                nan       0.99             108.05   \n",
       "std                   0.00               0.00       0.11              63.05   \n",
       "min                   0.00               0.00       0.00               1.00   \n",
       "25%                   1.00               1.00       1.00              51.00   \n",
       "50%                   1.00               1.00       1.00              97.00   \n",
       "75%                   2.00               1.00       1.00             162.00   \n",
       "max                   7.00               5.00       1.00             222.00   \n",
       "\n",
       "       CityIdentifier  ...  Census_FirmwareVersionIdentifier  \\\n",
       "count      8596074.00  ...                        8761350.00   \n",
       "mean         80491.52  ...                          32680.55   \n",
       "std          48734.61  ...                          21126.12   \n",
       "min              5.00  ...                              3.00   \n",
       "25%          36825.00  ...                          13156.00   \n",
       "50%          82373.00  ...                          33070.00   \n",
       "75%         123700.00  ...                          52436.00   \n",
       "max         167962.00  ...                          72105.00   \n",
       "\n",
       "       Census_IsSecureBootEnabled  Census_IsWIMBootEnabled  \\\n",
       "count                  8921483.00               3261780.00   \n",
       "mean                         0.49                     0.00   \n",
       "std                          0.50                     0.00   \n",
       "min                          0.00                     0.00   \n",
       "25%                          0.00                     0.00   \n",
       "50%                          0.00                     0.00   \n",
       "75%                          1.00                     0.00   \n",
       "max                          1.00                     1.00   \n",
       "\n",
       "       Census_IsVirtualDevice  Census_IsTouchEnabled  Census_IsPenCapable  \\\n",
       "count              8905530.00             8921483.00           8921483.00   \n",
       "mean                     0.01                   0.13                 0.04   \n",
       "std                      0.08                   0.33                 0.19   \n",
       "min                      0.00                   0.00                 0.00   \n",
       "25%                      0.00                   0.00                 0.00   \n",
       "50%                      0.00                   0.00                 0.00   \n",
       "75%                      0.00                   0.00                 0.00   \n",
       "max                      1.00                   1.00                 1.00   \n",
       "\n",
       "       Census_IsAlwaysOnAlwaysConnectedCapable  Wdft_IsGamer  \\\n",
       "count                               8850140.00    8618032.00   \n",
       "mean                                       nan           nan   \n",
       "std                                       0.00          0.00   \n",
       "min                                       0.00          0.00   \n",
       "25%                                       0.00          0.00   \n",
       "50%                                       0.00          0.00   \n",
       "75%                                       0.00          1.00   \n",
       "max                                       1.00          1.00   \n",
       "\n",
       "       Wdft_RegionIdentifier  HasDetections  \n",
       "count             8618032.00     8921483.00  \n",
       "mean                     nan           0.50  \n",
       "std                     0.00           0.50  \n",
       "min                     1.00           0.00  \n",
       "25%                     3.00           0.00  \n",
       "50%                    10.00           0.00  \n",
       "75%                    11.00           1.00  \n",
       "max                    15.00           1.00  \n",
       "\n",
       "[8 rows x 53 columns]"
      ]
     },
     "execution_count": 28,
     "metadata": {},
     "output_type": "execute_result"
    }
   ],
   "source": [
    "# Check numerical columns \n",
    "pd.options.display.float_format = \"{:.2f}\".format\n",
    "train.describe()"
   ]
  },
  {
   "cell_type": "markdown",
   "metadata": {},
   "source": [
    "Handle missing values"
   ]
  },
  {
   "cell_type": "code",
   "execution_count": 29,
   "metadata": {
    "collapsed": true
   },
   "outputs": [],
   "source": [
    "# Check missing data in training dataset\n",
    "total_train_missing = train.isnull().sum().sort_values(ascending = False)\n",
    "train_missing_percent = (train.isnull().sum()/train.isnull().count()*100).sort_values(ascending = False)\n",
    "missing_train_data  = pd.concat([total_train_missing, train_missing_percent], axis=1, keys=['Total', 'Percent'])"
   ]
  },
  {
   "cell_type": "code",
   "execution_count": 30,
   "metadata": {
    "scrolled": false
   },
   "outputs": [
    {
     "data": {
      "text/html": [
       "<div>\n",
       "<style scoped>\n",
       "    .dataframe tbody tr th:only-of-type {\n",
       "        vertical-align: middle;\n",
       "    }\n",
       "\n",
       "    .dataframe tbody tr th {\n",
       "        vertical-align: top;\n",
       "    }\n",
       "\n",
       "    .dataframe thead th {\n",
       "        text-align: right;\n",
       "    }\n",
       "</style>\n",
       "<table border=\"1\" class=\"dataframe\">\n",
       "  <thead>\n",
       "    <tr style=\"text-align: right;\">\n",
       "      <th></th>\n",
       "      <th>Total</th>\n",
       "      <th>Percent</th>\n",
       "    </tr>\n",
       "  </thead>\n",
       "  <tbody>\n",
       "    <tr>\n",
       "      <th>PuaMode</th>\n",
       "      <td>8919174</td>\n",
       "      <td>99.97</td>\n",
       "    </tr>\n",
       "    <tr>\n",
       "      <th>Census_ProcessorClass</th>\n",
       "      <td>8884852</td>\n",
       "      <td>99.59</td>\n",
       "    </tr>\n",
       "    <tr>\n",
       "      <th>DefaultBrowsersIdentifier</th>\n",
       "      <td>8488045</td>\n",
       "      <td>95.14</td>\n",
       "    </tr>\n",
       "    <tr>\n",
       "      <th>Census_IsFlightingInternal</th>\n",
       "      <td>7408759</td>\n",
       "      <td>83.04</td>\n",
       "    </tr>\n",
       "    <tr>\n",
       "      <th>Census_InternalBatteryType</th>\n",
       "      <td>6338429</td>\n",
       "      <td>71.05</td>\n",
       "    </tr>\n",
       "    <tr>\n",
       "      <th>Census_ThresholdOptIn</th>\n",
       "      <td>5667325</td>\n",
       "      <td>63.52</td>\n",
       "    </tr>\n",
       "    <tr>\n",
       "      <th>Census_IsWIMBootEnabled</th>\n",
       "      <td>5659703</td>\n",
       "      <td>63.44</td>\n",
       "    </tr>\n",
       "    <tr>\n",
       "      <th>SmartScreen</th>\n",
       "      <td>3177011</td>\n",
       "      <td>35.61</td>\n",
       "    </tr>\n",
       "    <tr>\n",
       "      <th>OrganizationIdentifier</th>\n",
       "      <td>2751518</td>\n",
       "      <td>30.84</td>\n",
       "    </tr>\n",
       "    <tr>\n",
       "      <th>SMode</th>\n",
       "      <td>537759</td>\n",
       "      <td>6.03</td>\n",
       "    </tr>\n",
       "  </tbody>\n",
       "</table>\n",
       "</div>"
      ],
      "text/plain": [
       "                              Total  Percent\n",
       "PuaMode                     8919174    99.97\n",
       "Census_ProcessorClass       8884852    99.59\n",
       "DefaultBrowsersIdentifier   8488045    95.14\n",
       "Census_IsFlightingInternal  7408759    83.04\n",
       "Census_InternalBatteryType  6338429    71.05\n",
       "Census_ThresholdOptIn       5667325    63.52\n",
       "Census_IsWIMBootEnabled     5659703    63.44\n",
       "SmartScreen                 3177011    35.61\n",
       "OrganizationIdentifier      2751518    30.84\n",
       "SMode                        537759     6.03"
      ]
     },
     "execution_count": 30,
     "metadata": {},
     "output_type": "execute_result"
    }
   ],
   "source": [
    "missing_train_data.head(10)"
   ]
  },
  {
   "cell_type": "markdown",
   "metadata": {},
   "source": [
    "**Comment:**\n",
    "\n",
    "* Data Dictionary:\n",
    "    * PuaMode - Pua Enabled mode from the service\n",
    "    * Census_ProcessorClass - A classification of processors into high/medium/low. Initially used for Pricing Level SKU. No longer maintained and updated\n",
    "    * DefaultBrowsersIdentifier - ID for the machine's default browser\n",
    "    * Census_IsFlightingInternal - NA\n",
    "    * Census_InternalBatteryType - NA\n",
    "\n",
    "\n",
    "* Drop columns that has missing values over 70%"
   ]
  },
  {
   "cell_type": "code",
   "execution_count": 31,
   "metadata": {},
   "outputs": [
    {
     "data": {
      "text/plain": [
       "array([nan,  0.,  1.])"
      ]
     },
     "execution_count": 31,
     "metadata": {},
     "output_type": "execute_result"
    }
   ],
   "source": [
    "train.Census_IsFlightingInternal.unique()"
   ]
  },
  {
   "cell_type": "code",
   "execution_count": 32,
   "metadata": {},
   "outputs": [
    {
     "data": {
      "text/plain": [
       "[NaN, lion, li-i, #, lip, ..., 8, #TAB#, l\u0006&#TAB#, liÿÿ, lÿÿÿ]\n",
       "Length: 79\n",
       "Categories (78, object): [lion, li-i, #, lip, ..., #TAB#, l\u0006&#TAB#, liÿÿ, lÿÿÿ]"
      ]
     },
     "execution_count": 32,
     "metadata": {},
     "output_type": "execute_result"
    }
   ],
   "source": [
    "train.Census_InternalBatteryType.unique()"
   ]
  },
  {
   "cell_type": "code",
   "execution_count": 33,
   "metadata": {},
   "outputs": [
    {
     "data": {
      "text/plain": [
       "Index(['PuaMode', 'Census_ProcessorClass', 'DefaultBrowsersIdentifier',\n",
       "       'Census_IsFlightingInternal', 'Census_InternalBatteryType'],\n",
       "      dtype='object')"
      ]
     },
     "execution_count": 33,
     "metadata": {},
     "output_type": "execute_result"
    }
   ],
   "source": [
    "#Drop columns that have missing percentage over 70%\n",
    "bad_cols = missing_train_data.loc[missing_train_data.Percent>70].transpose().columns\n",
    "bad_cols"
   ]
  },
  {
   "cell_type": "code",
   "execution_count": 82,
   "metadata": {
    "collapsed": true
   },
   "outputs": [],
   "source": [
    "#Drop columns that have missing percentage over 80%\n",
    "cols = list(set(train.columns)-set(bad_cols))"
   ]
  },
  {
   "cell_type": "code",
   "execution_count": 83,
   "metadata": {},
   "outputs": [
    {
     "data": {
      "text/plain": [
       "78"
      ]
     },
     "execution_count": 83,
     "metadata": {},
     "output_type": "execute_result"
    }
   ],
   "source": [
    "len(cols)"
   ]
  },
  {
   "cell_type": "code",
   "execution_count": 84,
   "metadata": {},
   "outputs": [],
   "source": [
    "train = train.loc[:,cols]"
   ]
  },
  {
   "cell_type": "code",
   "execution_count": 85,
   "metadata": {},
   "outputs": [
    {
     "data": {
      "text/plain": [
       "51"
      ]
     },
     "execution_count": 85,
     "metadata": {},
     "output_type": "execute_result"
    }
   ],
   "source": [
    "#Numerical columns\n",
    "cols = train.columns\n",
    "num_cols = train._get_numeric_data().columns\n",
    "len(num_cols)"
   ]
  },
  {
   "cell_type": "code",
   "execution_count": 86,
   "metadata": {},
   "outputs": [
    {
     "data": {
      "text/plain": [
       "27"
      ]
     },
     "execution_count": 86,
     "metadata": {},
     "output_type": "execute_result"
    }
   ],
   "source": [
    "#Categorical columns\n",
    "cat_cols = list(set(cols)-set(num_cols))\n",
    "len(cat_cols)"
   ]
  },
  {
   "cell_type": "markdown",
   "metadata": {},
   "source": [
    "Use data dictionary to identify true numerical values and binary values"
   ]
  },
  {
   "cell_type": "code",
   "execution_count": 87,
   "metadata": {
    "collapsed": true
   },
   "outputs": [],
   "source": [
    "#True numerical values\n",
    "true_num_cols = [\n",
    "    'Census_ProcessorCoreCount',\n",
    "    'Census_PrimaryDiskTotalCapacity',\n",
    "    'Census_SystemVolumeTotalCapacity',\n",
    "    'Census_TotalPhysicalRAM',\n",
    "    'Census_InternalPrimaryDiagonalDisplaySizeInInches',\n",
    "    'Census_InternalPrimaryDisplayResolutionHorizontal',\n",
    "    'Census_InternalPrimaryDisplayResolutionVertical',\n",
    "    'Census_InternalBatteryNumberOfCharges'\n",
    "]"
   ]
  },
  {
   "cell_type": "code",
   "execution_count": 88,
   "metadata": {},
   "outputs": [
    {
     "data": {
      "text/plain": [
       "['IsProtected',\n",
       " 'Census_ThresholdOptIn',\n",
       " 'HasTpm',\n",
       " 'Census_IsPortableOperatingSystem',\n",
       " 'Wdft_IsGamer',\n",
       " 'IsBeta',\n",
       " 'Census_IsAlwaysOnAlwaysConnectedCapable',\n",
       " 'SMode',\n",
       " 'HasDetections',\n",
       " 'Census_IsVirtualDevice',\n",
       " 'IsSxsPassiveMode',\n",
       " 'Census_HasOpticalDiskDrive',\n",
       " 'Census_IsWIMBootEnabled',\n",
       " 'Census_IsFlightsDisabled',\n",
       " 'Firewall',\n",
       " 'Census_IsTouchEnabled',\n",
       " 'Census_IsSecureBootEnabled',\n",
       " 'AutoSampleOptIn',\n",
       " 'Census_IsPenCapable']"
      ]
     },
     "execution_count": 88,
     "metadata": {},
     "output_type": "execute_result"
    }
   ],
   "source": [
    "#Binary values\n",
    "bi_cols = [c for c in train.columns if train[c].nunique() == 2]\n",
    "bi_cols"
   ]
  },
  {
   "cell_type": "code",
   "execution_count": 89,
   "metadata": {},
   "outputs": [
    {
     "data": {
      "text/plain": [
       "51"
      ]
     },
     "execution_count": 89,
     "metadata": {},
     "output_type": "execute_result"
    }
   ],
   "source": [
    "cat_cols = list(set(cols)-set(true_num_cols)-set(bi_cols))\n",
    "len(cat_cols)"
   ]
  },
  {
   "cell_type": "code",
   "execution_count": 54,
   "metadata": {
    "scrolled": false
   },
   "outputs": [
    {
     "data": {
      "image/png": "[encoded data removed]",
      "text/plain": [
       "<Figure size 576x360 with 1 Axes>"
      ]
     },
     "metadata": {},
     "output_type": "display_data"
    }
   ],
   "source": [
    "col_df = pd.DataFrame({'categorical_columns': [len(cat_cols)], \n",
    "                       'binary_variables': [len(bi_cols)],\n",
    "                       'true_numerical_columns': [len(true_num_cols)]})\n",
    "col_df.plot(kind='bar',figsize=(8,5));"
   ]
  },
  {
   "cell_type": "code",
   "execution_count": 55,
   "metadata": {
    "scrolled": false
   },
   "outputs": [
    {
     "name": "stderr",
     "output_type": "stream",
     "text": [
      "C:\\ProgramData\\Anaconda3\\lib\\site-packages\\seaborn\\categorical.py:1428: FutureWarning:\n",
      "\n",
      "remove_na is deprecated and is a private function. Do not use.\n",
      "\n"
     ]
    },
    {
     "data": {
      "image/png": "[encoded data removed]",
      "text/plain": [
       "<Figure size 432x288 with 1 Axes>"
      ]
     },
     "metadata": {},
     "output_type": "display_data"
    }
   ],
   "source": [
    "# Check target distribution in the training dataset\n",
    "sns.countplot('HasDetections', data=train);\n",
    "# We can see that the distribution of target is evenly split."
   ]
  },
  {
   "cell_type": "markdown",
   "metadata": {},
   "source": [
    "Check categorical values frist:\n",
    "* Find varaibles with high cardinality "
   ]
  },
  {
   "cell_type": "code",
   "execution_count": 52,
   "metadata": {},
   "outputs": [
    {
     "data": {
      "text/plain": [
       "MachineIdentifier                         8921483\n",
       "Census_OEMModelIdentifier                  175365\n",
       "CityIdentifier                             107366\n",
       "Census_FirmwareVersionIdentifier            50494\n",
       "AVProductStatesIdentifier                   28970\n",
       "AvSigVersion                                 8531\n",
       "Census_ProcessorModelIdentifier              2583\n",
       "Census_OEMNameIdentifier                     2564\n",
       "Census_FirmwareManufacturerIdentifier         712\n",
       "OsBuildLab                                    663\n",
       "Census_OSVersion                              469\n",
       "IeVerIdentifier                               303\n",
       "GeoNameIdentifier                             292\n",
       "Census_OSBuildRevision                        285\n",
       "LocaleEnglishNameIdentifier                   252\n",
       "CountryIdentifier                             222\n",
       "Census_OSBuildNumber                          165\n",
       "Census_OSUILocaleIdentifier                   147\n",
       "AppVersion                                    110\n",
       "OsBuild                                        76\n",
       "EngineVersion                                  70\n",
       "OsVer                                          58\n",
       "Census_ChassisTypeName                         52\n",
       "OrganizationIdentifier                         49\n",
       "Census_OSInstallLanguageIdentifier             39\n",
       "Census_OSEdition                               33\n",
       "Census_OSBranch                                32\n",
       "Census_OSSkuName                               30\n",
       "SmartScreen                                    21\n",
       "Wdft_RegionIdentifier                          15\n",
       "OsSuite                                        14\n",
       "Census_MDC2FormFactor                          13\n",
       "UacLuaenable                                   11\n",
       "Census_FlightRing                              10\n",
       "Census_PowerPlatformRoleName                   10\n",
       "OsPlatformSubRelease                            9\n",
       "Census_OSInstallTypeName                        9\n",
       "SkuEdition                                      8\n",
       "AVProductsInstalled                             8\n",
       "Census_ProcessorManufacturerIdentifier          7\n",
       "RtpStateBitfield                                7\n",
       "Census_OSWUAutoUpdateOptionsName                6\n",
       "ProductName                                     6\n",
       "AVProductsEnabled                               6\n",
       "Census_ActivationChannel                        6\n",
       "Census_GenuineStateName                         5\n",
       "Platform                                        4\n",
       "Census_PrimaryDiskTypeName                      4\n",
       "Census_DeviceFamily                             3\n",
       "Census_OSArchitecture                           3\n",
       "Processor                                       3\n",
       "dtype: int64"
      ]
     },
     "execution_count": 52,
     "metadata": {},
     "output_type": "execute_result"
    }
   ],
   "source": [
    "train[cat_cols].nunique().sort_values(ascending=False)"
   ]
  },
  {
   "cell_type": "code",
   "execution_count": 56,
   "metadata": {
    "collapsed": true
   },
   "outputs": [],
   "source": [
    "high_cardinality_columns = [c for c in cat_cols if train[c].nunique() > 2000]"
   ]
  },
  {
   "cell_type": "code",
   "execution_count": 57,
   "metadata": {},
   "outputs": [
    {
     "data": {
      "text/plain": [
       "['AVProductStatesIdentifier',\n",
       " 'Census_FirmwareVersionIdentifier',\n",
       " 'CityIdentifier',\n",
       " 'Census_ProcessorModelIdentifier',\n",
       " 'Census_OEMNameIdentifier',\n",
       " 'Census_OEMModelIdentifier',\n",
       " 'AvSigVersion',\n",
       " 'MachineIdentifier']"
      ]
     },
     "execution_count": 57,
     "metadata": {},
     "output_type": "execute_result"
    }
   ],
   "source": [
    "high_cardinality_columns"
   ]
  },
  {
   "cell_type": "code",
   "execution_count": 65,
   "metadata": {
    "scrolled": false
   },
   "outputs": [
    {
     "name": "stdout",
     "output_type": "stream",
     "text": [
      "High five! You successfully sent some data to your account on plotly. View your plot in your browser at https://plot.ly/~qixxx062/0 or inside your plot.ly account where it is named 'plot from API'\n"
     ]
    },
    {
     "data": {
      "text/html": [
       "<iframe id=\"igraph\" scrolling=\"no\" style=\"border:none;\" seamless=\"seamless\" src=\"https://plot.ly/~qixxx062/0.embed\" height=\"1600px\" width=\"800px\"></iframe>"
      ],
      "text/plain": [
       "<plotly.tools.PlotlyDisplay object>"
      ]
     },
     "execution_count": 65,
     "metadata": {},
     "output_type": "execute_result"
    }
   ],
   "source": [
    "#Visulaization\n",
    "cardinality = []\n",
    "for c in cat_cols:\n",
    "    if c == 'MachineIdentifier': continue\n",
    "    cardinality.append([c, train[c].nunique()])\n",
    "cardinality.sort(key = lambda x:x[1], reverse=False)\n",
    "\n",
    "trace = go.Bar(y=[x[0] for x in cardinality],\n",
    "               x=[x[1] for x in cardinality],\n",
    "               orientation='h', marker=dict(color='rgb(49,130,189)'), name='train')\n",
    "\n",
    "layout = go.Layout(\n",
    "    title='Categorical cardinality', height=1600, width=800,\n",
    "    xaxis=dict(\n",
    "        title='Number of categories',\n",
    "        titlefont=dict(size=16, color='rgb(107, 107, 107)'),\n",
    "        domain=[0.25, 1]\n",
    "    ),\n",
    "    barmode='group',\n",
    "    bargap=0.1,\n",
    "    bargroupgap=0.1\n",
    ")\n",
    "\n",
    "fig = go.Figure(data=[trace], layout=layout)\n",
    "py.iplot(fig)"
   ]
  },
  {
   "cell_type": "markdown",
   "metadata": {},
   "source": [
    "<a id =\"FE\"></a>\n",
    "**3. Feature Engineering**\n",
    "\n",
    "Deal with categorical data: One hot encoding is excluded\n",
    "* Frequency encoding: \n",
    "    * Rank the categories with respect to their frequencies \n",
    "* Label encoding:\n",
    "    * Encode labels with value between 0 to classes-1\n",
    "    "
   ]
  },
  {
   "cell_type": "code",
   "execution_count": 67,
   "metadata": {
    "collapsed": true
   },
   "outputs": [],
   "source": [
    "high_cardinality_columns.remove('MachineIdentifier')"
   ]
  },
  {
   "cell_type": "code",
   "execution_count": 100,
   "metadata": {},
   "outputs": [
    {
     "data": {
      "text/plain": [
       "['AVProductStatesIdentifier',\n",
       " 'Census_FirmwareVersionIdentifier',\n",
       " 'CityIdentifier',\n",
       " 'Census_ProcessorModelIdentifier',\n",
       " 'Census_OEMNameIdentifier',\n",
       " 'Census_OEMModelIdentifier',\n",
       " 'AvSigVersion']"
      ]
     },
     "execution_count": 100,
     "metadata": {},
     "output_type": "execute_result"
    }
   ],
   "source": [
    "high_cardinality_columns"
   ]
  },
  {
   "cell_type": "code",
   "execution_count": 101,
   "metadata": {
    "collapsed": true
   },
   "outputs": [],
   "source": [
    "# Frequency encoding function\n",
    "def frequency_encoding(variable):\n",
    "    t = pd.concat([train[variable], test[variable]]).value_counts().reset_index()\n",
    "    t = t.reset_index()\n",
    "    t.loc[t[variable] == 1, 'level_0'] = np.nan\n",
    "    t.set_index('index', inplace=True)\n",
    "    max_label = t['level_0'].max() + 1\n",
    "    t.fillna(max_label, inplace=True)\n",
    "    return t.to_dict()['level_0']"
   ]
  },
  {
   "cell_type": "code",
   "execution_count": 104,
   "metadata": {
    "scrolled": true
   },
   "outputs": [
    {
     "name": "stderr",
     "output_type": "stream",
     "text": [
      "100%|██████████| 7/7 [00:51<00:00,  6.52s/it]\n"
     ]
    }
   ],
   "source": [
    "# tqdm: show a progress metter while looping\n",
    "for col in tqdm(high_cardinality_columns):\n",
    "    freq_enc_dict = frequency_encoding(col)\n",
    "    train[col] = train[col].map(lambda x: freq_enc_dict.get(x, np.nan))\n",
    "    test[col] = test[col].map(lambda x: freq_enc_dict.get(x, np.nan))\n",
    "    cat_cols.remove(col)"
   ]
  },
  {
   "cell_type": "code",
   "execution_count": 107,
   "metadata": {},
   "outputs": [
    {
     "data": {
      "text/plain": [
       "44"
      ]
     },
     "execution_count": 107,
     "metadata": {},
     "output_type": "execute_result"
    }
   ],
   "source": [
    "len(cat_cols)"
   ]
  },
  {
   "cell_type": "code",
   "execution_count": 115,
   "metadata": {},
   "outputs": [
    {
     "name": "stderr",
     "output_type": "stream",
     "text": [
      "100%|██████████| 44/44 [00:09<00:00,  5.25it/s]\n",
      "100%|██████████| 44/44 [43:49<00:00, 50.99s/it] \n"
     ]
    }
   ],
   "source": [
    "#Label encoding\n",
    "indexer = {}\n",
    "for col in tqdm(cat_cols):\n",
    "    if col == 'MachineIdentifier': continue\n",
    "    _, indexer[col] = pd.factorize(train[col])\n",
    "    \n",
    "for col in tqdm(cat_cols):\n",
    "    if col == 'MachineIdentifier': continue\n",
    "    train[col] = indexer[col].get_indexer(train[col])\n",
    "    test[col] = indexer[col].get_indexer(test[col])\n",
    "    "
   ]
  },
  {
   "cell_type": "code",
   "execution_count": 116,
   "metadata": {
    "collapsed": true
   },
   "outputs": [],
   "source": [
    "def reduce_mem_usage(df, verbose=True):\n",
    "    numerics = ['int16', 'int32', 'int64', 'float16', 'float32', 'float64']\n",
    "    start_mem = df.memory_usage().sum() / 1024**2    \n",
    "    for col in df.columns:\n",
    "        col_type = df[col].dtypes\n",
    "        if col_type in numerics:\n",
    "            c_min = df[col].min()\n",
    "            c_max = df[col].max()\n",
    "            if str(col_type)[:3] == 'int':\n",
    "                if c_min > np.iinfo(np.int8).min and c_max < np.iinfo(np.int8).max:\n",
    "                    df[col] = df[col].astype(np.int8)\n",
    "                elif c_min > np.iinfo(np.int16).min and c_max < np.iinfo(np.int16).max:\n",
    "                    df[col] = df[col].astype(np.int16)\n",
    "                elif c_min > np.iinfo(np.int32).min and c_max < np.iinfo(np.int32).max:\n",
    "                    df[col] = df[col].astype(np.int32)\n",
    "                elif c_min > np.iinfo(np.int64).min and c_max < np.iinfo(np.int64).max:\n",
    "                    df[col] = df[col].astype(np.int64)  \n",
    "            else:\n",
    "                if c_min > np.finfo(np.float16).min and c_max < np.finfo(np.float16).max:\n",
    "                    df[col] = df[col].astype(np.float16)\n",
    "                elif c_min > np.finfo(np.float32).min and c_max < np.finfo(np.float32).max:\n",
    "                    df[col] = df[col].astype(np.float32)\n",
    "                else:\n",
    "                    df[col] = df[col].astype(np.float64)    \n",
    "    end_mem = df.memory_usage().sum() / 1024**2\n",
    "    if verbose: print('Mem. usage decreased to {:5.2f} Mb ({:.1f}% reduction)'.format(end_mem, 100 * (start_mem - end_mem) / start_mem))\n",
    "    return df"
   ]
  },
  {
   "cell_type": "code",
   "execution_count": 117,
   "metadata": {},
   "outputs": [
    {
     "name": "stdout",
     "output_type": "stream",
     "text": [
      "Mem. usage decreased to 1468.61 Mb (65.6% reduction)\n",
      "Mem. usage decreased to 1376.02 Mb (64.2% reduction)\n"
     ]
    }
   ],
   "source": [
    "train = reduce_mem_usage(train)\n",
    "test = reduce_mem_usage(test)"
   ]
  },
  {
   "cell_type": "code",
   "execution_count": 119,
   "metadata": {},
   "outputs": [
    {
     "data": {
      "text/plain": [
       "(8921483, 78)"
      ]
     },
     "execution_count": 119,
     "metadata": {},
     "output_type": "execute_result"
    }
   ],
   "source": [
    "train.shape"
   ]
  },
  {
   "cell_type": "markdown",
   "metadata": {},
   "source": [
    "<a id =\"DM\"></a>\n",
    "**4. Data Modeling**\n",
    "\n",
    "\n",
    "**Light GBM**\n",
    "\n",
    "* A gradient boosting framewoork that uses tree based learning algorithm: Light GBM grows tree vertically while other algorithm grows trees horizontally.\n",
    "* Adavantage:\n",
    "    * High speed when handle large size of data\n",
    "    * Lower memory use to run\n",
    "* Disadvantage:\n",
    "    * Not good on samll dataset and sensitive to overfit"
   ]
  },
  {
   "cell_type": "markdown",
   "metadata": {},
   "source": [
    "<img src='lightgbm.png'>"
   ]
  },
  {
   "cell_type": "markdown",
   "metadata": {},
   "source": [
    "<img src='leveltree.png'>"
   ]
  },
  {
   "cell_type": "markdown",
   "metadata": {},
   "source": [
    "** Background Info**\n",
    "\n",
    "* Ensemble: a collection of predictors which come together to give a final prediction. (Ex: mean of all predictions...)\n",
    "    * Bagging:\n",
    "        * An ensembling technique in which we build many independent predictors, models, or learners and combine them using some averaging techniques. (Ex: majority vote...)\n",
    "        * Usually we take random sub-sample/bootstrap of data for each model,so that all the models are little different from each other. Each observation is chosen with replacement to be used as input for each of the model. So, each model will have different observations based on the bootstrap process. Because this technique takes many uncorrelated learners to make a final model, it reduces error by reducing variance. (Ex: Random forest)\n",
    "<img src=\"randomsampling.png\">                \n",
    "              \n",
    "    * Boosting: \n",
    "        * An ensemble technique in which the predictors are made sequentially and not independently.\n",
    "        * The logic is that the subsequent predictors learn from the mistakes of the previous predictors. Therefore, the observations have an unequal probablity of appearing in subsequent models and ones witht he highest error most. So the observations are not chosen based on the bootstrap process, but based on the error (Ex: Gradient Boosting)\n",
    "<img src=\"elementweighted.png\">\n",
    "\n",
    "    * Gradiant Boosting:\n",
    "        *  a machine learning technique for regression and classification problems, which produces a prediction model in the form of an ensemble of weak prediction models, typically decision trees\n",
    "        * Alogrithm:\n",
    "            * Define a loss function and minimize it\n",
    "            <img src=\"lossfunc.png\">\n",
    "            * Use gradient descent and update predictions based on a learning rate, then find the values where MSE is minimum.\n",
    "            <img src=\"gradiantfunc.png\">\n",
    "        * Intuition: leverage the patterns in residuals and strengthen a model with weak predictions and make it better"
   ]
  },
  {
   "cell_type": "code",
   "execution_count": 113,
   "metadata": {
    "collapsed": true
   },
   "outputs": [],
   "source": [
    "# Use 'binary' as objective because this is a classification problem \n",
    "# Use 'bossting type' becasue it is to implement gradiant gradiant boosting  \n",
    "param = {'num_leaves': 60,\n",
    "         'min_data_in_leaf': 60, \n",
    "         'objective':'binary',\n",
    "         'max_depth': -1,\n",
    "         'learning_rate': 0.1,\n",
    "         \"boosting\": \"gbdt\",\n",
    "         \"feature_fraction\": 0.8,\n",
    "         \"bagging_freq\": 1,\n",
    "         \"bagging_fraction\": 0.8 ,\n",
    "         \"bagging_seed\": 11,\n",
    "         \"metric\": 'auc',\n",
    "         \"lambda_l1\": 0.1,\n",
    "         \"random_state\": 42,\n",
    "         \"verbosity\": -1}"
   ]
  },
  {
   "cell_type": "markdown",
   "metadata": {},
   "source": [
    "**Parameter Tunning**\n",
    "\n",
    "* num_leaves: main parameter to control the complexity of the tree model; value of num_leaves should be less than or qual to 2^(max_depth)\n",
    "* min_data_in_leaf: a large value can avoid growing too deep in a tree, which may cuase under-fitting\n",
    "* max_depth: limit the tree depth explicitly\n",
    "\n",
    "For faster speed:\n",
    "\n",
    "* Set feature_fraction to sub-sample \n",
    "* Set bagging_fraction and bagginh_freq\n",
    "\n",
    "For better accuracy:\n",
    "* Use small learning_rate with large num_iterations\n",
    "\n",
    "For over-fitting:\n",
    "* Try lambda_l1, lambda_l2 and min_gain_to_split to regularization"
   ]
  },
  {
   "cell_type": "code",
   "execution_count": 128,
   "metadata": {},
   "outputs": [],
   "source": [
    "# Cross validation with n_splits =5\n",
    "folds = KFold(n_splits=5, shuffle=True, random_state=15)"
   ]
  },
  {
   "cell_type": "code",
   "execution_count": 123,
   "metadata": {
    "collapsed": true
   },
   "outputs": [],
   "source": [
    "target = train.loc[:,'HasDetections']"
   ]
  },
  {
   "cell_type": "code",
   "execution_count": 124,
   "metadata": {},
   "outputs": [],
   "source": [
    "train1 = train.drop(['HasDetections', 'MachineIdentifier'], axis=1)\n",
    "test1 = test.drop(['MachineIdentifier'], axis=1)"
   ]
  },
  {
   "cell_type": "code",
   "execution_count": 134,
   "metadata": {
    "scrolled": false
   },
   "outputs": [
    {
     "name": "stdout",
     "output_type": "stream",
     "text": [
      "-\n",
      "Fold 1\n",
      "Training until validation scores don't improve for 150 rounds.\n",
      "[100]\ttraining's auc: 0.718414\tvalid_1's auc: 0.717421\n",
      "[200]\ttraining's auc: 0.726579\tvalid_1's auc: 0.725004\n",
      "[300]\ttraining's auc: 0.730461\tvalid_1's auc: 0.728226\n",
      "[400]\ttraining's auc: 0.733049\tvalid_1's auc: 0.7301\n",
      "[500]\ttraining's auc: 0.735088\tvalid_1's auc: 0.731391\n",
      "[600]\ttraining's auc: 0.736791\tvalid_1's auc: 0.732313\n",
      "[700]\ttraining's auc: 0.738362\tvalid_1's auc: 0.733122\n",
      "[800]\ttraining's auc: 0.739777\tvalid_1's auc: 0.733743\n",
      "[900]\ttraining's auc: 0.741114\tvalid_1's auc: 0.734276\n",
      "[1000]\ttraining's auc: 0.742334\tvalid_1's auc: 0.734707\n",
      "[1100]\ttraining's auc: 0.743523\tvalid_1's auc: 0.735132\n",
      "[1200]\ttraining's auc: 0.744534\tvalid_1's auc: 0.735365\n",
      "[1300]\ttraining's auc: 0.7456\tvalid_1's auc: 0.735679\n",
      "[1400]\ttraining's auc: 0.746619\tvalid_1's auc: 0.735924\n",
      "[1500]\ttraining's auc: 0.7476\tvalid_1's auc: 0.736145\n",
      "[1600]\ttraining's auc: 0.748603\tvalid_1's auc: 0.736357\n",
      "[1700]\ttraining's auc: 0.74953\tvalid_1's auc: 0.736512\n",
      "[1800]\ttraining's auc: 0.750409\tvalid_1's auc: 0.736633\n",
      "[1900]\ttraining's auc: 0.751301\tvalid_1's auc: 0.736774\n",
      "[2000]\ttraining's auc: 0.7522\tvalid_1's auc: 0.736908\n",
      "[2100]\ttraining's auc: 0.753067\tvalid_1's auc: 0.73705\n",
      "[2200]\ttraining's auc: 0.75393\tvalid_1's auc: 0.737183\n",
      "[2300]\ttraining's auc: 0.754773\tvalid_1's auc: 0.737282\n",
      "[2400]\ttraining's auc: 0.755604\tvalid_1's auc: 0.737388\n",
      "[2500]\ttraining's auc: 0.756413\tvalid_1's auc: 0.737471\n",
      "[2600]\ttraining's auc: 0.75725\tvalid_1's auc: 0.737587\n",
      "[2700]\ttraining's auc: 0.758001\tvalid_1's auc: 0.73762\n",
      "[2800]\ttraining's auc: 0.758796\tvalid_1's auc: 0.737716\n",
      "[2900]\ttraining's auc: 0.759622\tvalid_1's auc: 0.737812\n",
      "[3000]\ttraining's auc: 0.760416\tvalid_1's auc: 0.737871\n",
      "[3100]\ttraining's auc: 0.761171\tvalid_1's auc: 0.737927\n",
      "[3200]\ttraining's auc: 0.761918\tvalid_1's auc: 0.737961\n",
      "[3300]\ttraining's auc: 0.762673\tvalid_1's auc: 0.738011\n",
      "[3400]\ttraining's auc: 0.763432\tvalid_1's auc: 0.738065\n",
      "[3500]\ttraining's auc: 0.764163\tvalid_1's auc: 0.73811\n",
      "[3600]\ttraining's auc: 0.764897\tvalid_1's auc: 0.738141\n",
      "[3700]\ttraining's auc: 0.765632\tvalid_1's auc: 0.738201\n",
      "[3800]\ttraining's auc: 0.76634\tvalid_1's auc: 0.738236\n",
      "[3900]\ttraining's auc: 0.767055\tvalid_1's auc: 0.738276\n",
      "[4000]\ttraining's auc: 0.767749\tvalid_1's auc: 0.738304\n",
      "[4100]\ttraining's auc: 0.768458\tvalid_1's auc: 0.738349\n",
      "[4200]\ttraining's auc: 0.769155\tvalid_1's auc: 0.738412\n",
      "[4300]\ttraining's auc: 0.76984\tvalid_1's auc: 0.738436\n",
      "[4400]\ttraining's auc: 0.770519\tvalid_1's auc: 0.738467\n",
      "[4500]\ttraining's auc: 0.771203\tvalid_1's auc: 0.738487\n",
      "[4600]\ttraining's auc: 0.771891\tvalid_1's auc: 0.73852\n",
      "[4700]\ttraining's auc: 0.772566\tvalid_1's auc: 0.738525\n",
      "[4800]\ttraining's auc: 0.773253\tvalid_1's auc: 0.738557\n",
      "[4900]\ttraining's auc: 0.77393\tvalid_1's auc: 0.738583\n",
      "[5000]\ttraining's auc: 0.774585\tvalid_1's auc: 0.73858\n",
      "[5100]\ttraining's auc: 0.775224\tvalid_1's auc: 0.738577\n",
      "Early stopping, best iteration is:\n",
      "[5036]\ttraining's auc: 0.774815\tvalid_1's auc: 0.738592\n",
      "-\n",
      "Fold 2\n",
      "Training until validation scores don't improve for 150 rounds.\n",
      "[100]\ttraining's auc: 0.718546\tvalid_1's auc: 0.718035\n",
      "[200]\ttraining's auc: 0.72651\tvalid_1's auc: 0.725397\n",
      "[300]\ttraining's auc: 0.730429\tvalid_1's auc: 0.72869\n",
      "[400]\ttraining's auc: 0.732938\tvalid_1's auc: 0.73045\n",
      "[500]\ttraining's auc: 0.735006\tvalid_1's auc: 0.731774\n",
      "[600]\ttraining's auc: 0.736735\tvalid_1's auc: 0.732748\n",
      "[700]\ttraining's auc: 0.738265\tvalid_1's auc: 0.733482\n",
      "[800]\ttraining's auc: 0.739638\tvalid_1's auc: 0.734011\n",
      "[900]\ttraining's auc: 0.740936\tvalid_1's auc: 0.734506\n",
      "[1000]\ttraining's auc: 0.742201\tvalid_1's auc: 0.735008\n",
      "[1100]\ttraining's auc: 0.743361\tvalid_1's auc: 0.735381\n",
      "[1200]\ttraining's auc: 0.744449\tvalid_1's auc: 0.735707\n",
      "[1300]\ttraining's auc: 0.745524\tvalid_1's auc: 0.736021\n",
      "[1400]\ttraining's auc: 0.746587\tvalid_1's auc: 0.736295\n",
      "[1500]\ttraining's auc: 0.747572\tvalid_1's auc: 0.736539\n",
      "[1600]\ttraining's auc: 0.74854\tvalid_1's auc: 0.736723\n",
      "[1700]\ttraining's auc: 0.749473\tvalid_1's auc: 0.736868\n",
      "[1800]\ttraining's auc: 0.750424\tvalid_1's auc: 0.737064\n",
      "[1900]\ttraining's auc: 0.751322\tvalid_1's auc: 0.737188\n",
      "[2000]\ttraining's auc: 0.752211\tvalid_1's auc: 0.737312\n",
      "[2100]\ttraining's auc: 0.753118\tvalid_1's auc: 0.737468\n",
      "[2200]\ttraining's auc: 0.753942\tvalid_1's auc: 0.737542\n",
      "[2300]\ttraining's auc: 0.754783\tvalid_1's auc: 0.737632\n",
      "[2400]\ttraining's auc: 0.755602\tvalid_1's auc: 0.73771\n",
      "[2500]\ttraining's auc: 0.756439\tvalid_1's auc: 0.737804\n",
      "[2600]\ttraining's auc: 0.75724\tvalid_1's auc: 0.737897\n",
      "[2700]\ttraining's auc: 0.758068\tvalid_1's auc: 0.737964\n",
      "[2800]\ttraining's auc: 0.758862\tvalid_1's auc: 0.738042\n",
      "[2900]\ttraining's auc: 0.759634\tvalid_1's auc: 0.738093\n",
      "[3000]\ttraining's auc: 0.760413\tvalid_1's auc: 0.738158\n",
      "[3100]\ttraining's auc: 0.761149\tvalid_1's auc: 0.738186\n",
      "[3200]\ttraining's auc: 0.761904\tvalid_1's auc: 0.738248\n",
      "[3300]\ttraining's auc: 0.762637\tvalid_1's auc: 0.738278\n",
      "[3400]\ttraining's auc: 0.763386\tvalid_1's auc: 0.738321\n",
      "[3500]\ttraining's auc: 0.764115\tvalid_1's auc: 0.738374\n",
      "[3600]\ttraining's auc: 0.764819\tvalid_1's auc: 0.738418\n",
      "[3700]\ttraining's auc: 0.76553\tvalid_1's auc: 0.738433\n",
      "[3800]\ttraining's auc: 0.766238\tvalid_1's auc: 0.738452\n",
      "[3900]\ttraining's auc: 0.766957\tvalid_1's auc: 0.738464\n",
      "[4000]\ttraining's auc: 0.767635\tvalid_1's auc: 0.738503\n",
      "[4100]\ttraining's auc: 0.768378\tvalid_1's auc: 0.738564\n",
      "[4200]\ttraining's auc: 0.769072\tvalid_1's auc: 0.738597\n",
      "[4300]\ttraining's auc: 0.769783\tvalid_1's auc: 0.738631\n",
      "[4400]\ttraining's auc: 0.770473\tvalid_1's auc: 0.738654\n",
      "[4500]\ttraining's auc: 0.771137\tvalid_1's auc: 0.738664\n",
      "[4600]\ttraining's auc: 0.771792\tvalid_1's auc: 0.738667\n",
      "Early stopping, best iteration is:\n",
      "[4453]\ttraining's auc: 0.770825\tvalid_1's auc: 0.738677\n",
      "-\n",
      "Fold 3\n",
      "Training until validation scores don't improve for 150 rounds.\n",
      "[100]\ttraining's auc: 0.718403\tvalid_1's auc: 0.717615\n",
      "[200]\ttraining's auc: 0.726671\tvalid_1's auc: 0.725408\n",
      "[300]\ttraining's auc: 0.730487\tvalid_1's auc: 0.728606\n",
      "[400]\ttraining's auc: 0.73308\tvalid_1's auc: 0.730526\n",
      "[500]\ttraining's auc: 0.735066\tvalid_1's auc: 0.731752\n",
      "[600]\ttraining's auc: 0.736737\tvalid_1's auc: 0.732631\n",
      "[700]\ttraining's auc: 0.73844\tvalid_1's auc: 0.733578\n",
      "[800]\ttraining's auc: 0.739841\tvalid_1's auc: 0.734188\n",
      "[900]\ttraining's auc: 0.741159\tvalid_1's auc: 0.734703\n",
      "[1000]\ttraining's auc: 0.742449\tvalid_1's auc: 0.73524\n",
      "[1100]\ttraining's auc: 0.743545\tvalid_1's auc: 0.735542\n",
      "[1200]\ttraining's auc: 0.744682\tvalid_1's auc: 0.735918\n",
      "[1300]\ttraining's auc: 0.745741\tvalid_1's auc: 0.736174\n",
      "[1400]\ttraining's auc: 0.746778\tvalid_1's auc: 0.736443\n",
      "[1500]\ttraining's auc: 0.747745\tvalid_1's auc: 0.736628\n",
      "[1600]\ttraining's auc: 0.74871\tvalid_1's auc: 0.736838\n",
      "[1700]\ttraining's auc: 0.749655\tvalid_1's auc: 0.737001\n",
      "[1800]\ttraining's auc: 0.750622\tvalid_1's auc: 0.737238\n",
      "[1900]\ttraining's auc: 0.75152\tvalid_1's auc: 0.737372\n",
      "[2000]\ttraining's auc: 0.752386\tvalid_1's auc: 0.737496\n",
      "[2100]\ttraining's auc: 0.753247\tvalid_1's auc: 0.737604\n",
      "[2200]\ttraining's auc: 0.754081\tvalid_1's auc: 0.737713\n",
      "[2300]\ttraining's auc: 0.754884\tvalid_1's auc: 0.737792\n",
      "[2400]\ttraining's auc: 0.755716\tvalid_1's auc: 0.737891\n",
      "[2500]\ttraining's auc: 0.756515\tvalid_1's auc: 0.737943\n",
      "[2600]\ttraining's auc: 0.757293\tvalid_1's auc: 0.738005\n",
      "[2700]\ttraining's auc: 0.758103\tvalid_1's auc: 0.738062\n",
      "[2800]\ttraining's auc: 0.75888\tvalid_1's auc: 0.73811\n",
      "[2900]\ttraining's auc: 0.759678\tvalid_1's auc: 0.738196\n",
      "[3000]\ttraining's auc: 0.760488\tvalid_1's auc: 0.738269\n",
      "[3100]\ttraining's auc: 0.761261\tvalid_1's auc: 0.738314\n",
      "[3200]\ttraining's auc: 0.761987\tvalid_1's auc: 0.738361\n",
      "[3300]\ttraining's auc: 0.762733\tvalid_1's auc: 0.738428\n",
      "[3400]\ttraining's auc: 0.7635\tvalid_1's auc: 0.738478\n",
      "[3500]\ttraining's auc: 0.76425\tvalid_1's auc: 0.738508\n",
      "[3600]\ttraining's auc: 0.764994\tvalid_1's auc: 0.738538\n",
      "[3700]\ttraining's auc: 0.7657\tvalid_1's auc: 0.738577\n",
      "[3800]\ttraining's auc: 0.766425\tvalid_1's auc: 0.738595\n",
      "[3900]\ttraining's auc: 0.767134\tvalid_1's auc: 0.738616\n",
      "[4000]\ttraining's auc: 0.767831\tvalid_1's auc: 0.738668\n",
      "[4100]\ttraining's auc: 0.768511\tvalid_1's auc: 0.7387\n",
      "[4200]\ttraining's auc: 0.769202\tvalid_1's auc: 0.73873\n",
      "[4300]\ttraining's auc: 0.769861\tvalid_1's auc: 0.738722\n",
      "Early stopping, best iteration is:\n"
     ]
    },
    {
     "name": "stdout",
     "output_type": "stream",
     "text": [
      "[4170]\ttraining's auc: 0.769\tvalid_1's auc: 0.738734\n",
      "-\n",
      "Fold 4\n",
      "Training until validation scores don't improve for 150 rounds.\n",
      "[100]\ttraining's auc: 0.718218\tvalid_1's auc: 0.718384\n",
      "[200]\ttraining's auc: 0.726168\tvalid_1's auc: 0.725774\n",
      "[300]\ttraining's auc: 0.730008\tvalid_1's auc: 0.728995\n",
      "[400]\ttraining's auc: 0.732693\tvalid_1's auc: 0.731001\n",
      "[500]\ttraining's auc: 0.734818\tvalid_1's auc: 0.732391\n",
      "[600]\ttraining's auc: 0.736673\tvalid_1's auc: 0.733477\n",
      "[700]\ttraining's auc: 0.738127\tvalid_1's auc: 0.734165\n",
      "[800]\ttraining's auc: 0.7396\tvalid_1's auc: 0.734837\n",
      "[900]\ttraining's auc: 0.740919\tvalid_1's auc: 0.735365\n",
      "[1000]\ttraining's auc: 0.742152\tvalid_1's auc: 0.735826\n",
      "[1100]\ttraining's auc: 0.743281\tvalid_1's auc: 0.736183\n",
      "[1200]\ttraining's auc: 0.744402\tvalid_1's auc: 0.736526\n",
      "[1300]\ttraining's auc: 0.745468\tvalid_1's auc: 0.736808\n",
      "[1400]\ttraining's auc: 0.746474\tvalid_1's auc: 0.737064\n",
      "[1500]\ttraining's auc: 0.747505\tvalid_1's auc: 0.737328\n",
      "[1600]\ttraining's auc: 0.748458\tvalid_1's auc: 0.737526\n",
      "[1700]\ttraining's auc: 0.749378\tvalid_1's auc: 0.737697\n",
      "[1800]\ttraining's auc: 0.750302\tvalid_1's auc: 0.73786\n",
      "[1900]\ttraining's auc: 0.751172\tvalid_1's auc: 0.737982\n",
      "[2000]\ttraining's auc: 0.752042\tvalid_1's auc: 0.738129\n",
      "[2100]\ttraining's auc: 0.752919\tvalid_1's auc: 0.73825\n",
      "[2200]\ttraining's auc: 0.753787\tvalid_1's auc: 0.738361\n",
      "[2300]\ttraining's auc: 0.754631\tvalid_1's auc: 0.738467\n",
      "[2400]\ttraining's auc: 0.755483\tvalid_1's auc: 0.738586\n",
      "[2500]\ttraining's auc: 0.756284\tvalid_1's auc: 0.738668\n",
      "[2600]\ttraining's auc: 0.757102\tvalid_1's auc: 0.738764\n",
      "[2700]\ttraining's auc: 0.757911\tvalid_1's auc: 0.738857\n",
      "[2800]\ttraining's auc: 0.758708\tvalid_1's auc: 0.738918\n",
      "[2900]\ttraining's auc: 0.75949\tvalid_1's auc: 0.739005\n",
      "[3000]\ttraining's auc: 0.760244\tvalid_1's auc: 0.739046\n",
      "[3100]\ttraining's auc: 0.761038\tvalid_1's auc: 0.739104\n",
      "[3200]\ttraining's auc: 0.761776\tvalid_1's auc: 0.739155\n",
      "[3300]\ttraining's auc: 0.762513\tvalid_1's auc: 0.73919\n",
      "[3400]\ttraining's auc: 0.763271\tvalid_1's auc: 0.739233\n",
      "[3500]\ttraining's auc: 0.76402\tvalid_1's auc: 0.739274\n",
      "[3600]\ttraining's auc: 0.76475\tvalid_1's auc: 0.739306\n",
      "[3700]\ttraining's auc: 0.765459\tvalid_1's auc: 0.739329\n",
      "[3800]\ttraining's auc: 0.766188\tvalid_1's auc: 0.739367\n",
      "[3900]\ttraining's auc: 0.76688\tvalid_1's auc: 0.739402\n",
      "[4000]\ttraining's auc: 0.767605\tvalid_1's auc: 0.739436\n",
      "[4100]\ttraining's auc: 0.768304\tvalid_1's auc: 0.739473\n",
      "[4200]\ttraining's auc: 0.769001\tvalid_1's auc: 0.739487\n",
      "[4300]\ttraining's auc: 0.76971\tvalid_1's auc: 0.739515\n",
      "[4400]\ttraining's auc: 0.77038\tvalid_1's auc: 0.739534\n",
      "[4500]\ttraining's auc: 0.771055\tvalid_1's auc: 0.739528\n",
      "[4600]\ttraining's auc: 0.771733\tvalid_1's auc: 0.739567\n",
      "[4700]\ttraining's auc: 0.772409\tvalid_1's auc: 0.73958\n",
      "[4800]\ttraining's auc: 0.773044\tvalid_1's auc: 0.73957\n",
      "[4900]\ttraining's auc: 0.773695\tvalid_1's auc: 0.739584\n",
      "[5000]\ttraining's auc: 0.77437\tvalid_1's auc: 0.739603\n",
      "[5100]\ttraining's auc: 0.775062\tvalid_1's auc: 0.73963\n",
      "[5200]\ttraining's auc: 0.775686\tvalid_1's auc: 0.739648\n",
      "[5300]\ttraining's auc: 0.776343\tvalid_1's auc: 0.739636\n",
      "[5400]\ttraining's auc: 0.77699\tvalid_1's auc: 0.739655\n",
      "[5500]\ttraining's auc: 0.777633\tvalid_1's auc: 0.739669\n",
      "[5600]\ttraining's auc: 0.778288\tvalid_1's auc: 0.739674\n",
      "[5700]\ttraining's auc: 0.778931\tvalid_1's auc: 0.739674\n",
      "[5800]\ttraining's auc: 0.779558\tvalid_1's auc: 0.739667\n",
      "Early stopping, best iteration is:\n",
      "[5687]\ttraining's auc: 0.77885\tvalid_1's auc: 0.73968\n",
      "-\n",
      "Fold 5\n",
      "Training until validation scores don't improve for 150 rounds.\n",
      "[100]\ttraining's auc: 0.718554\tvalid_1's auc: 0.717273\n",
      "[200]\ttraining's auc: 0.72633\tvalid_1's auc: 0.724556\n",
      "[300]\ttraining's auc: 0.730386\tvalid_1's auc: 0.727973\n",
      "[400]\ttraining's auc: 0.733039\tvalid_1's auc: 0.729911\n",
      "[500]\ttraining's auc: 0.735148\tvalid_1's auc: 0.731312\n",
      "[600]\ttraining's auc: 0.736891\tvalid_1's auc: 0.732324\n",
      "[700]\ttraining's auc: 0.738417\tvalid_1's auc: 0.733049\n",
      "[800]\ttraining's auc: 0.739849\tvalid_1's auc: 0.733708\n",
      "[900]\ttraining's auc: 0.74112\tvalid_1's auc: 0.734205\n",
      "[1000]\ttraining's auc: 0.742416\tvalid_1's auc: 0.734746\n",
      "[1100]\ttraining's auc: 0.743567\tvalid_1's auc: 0.735104\n",
      "[1200]\ttraining's auc: 0.744707\tvalid_1's auc: 0.735458\n",
      "[1300]\ttraining's auc: 0.745729\tvalid_1's auc: 0.735725\n",
      "[1400]\ttraining's auc: 0.746717\tvalid_1's auc: 0.735916\n",
      "[1500]\ttraining's auc: 0.747726\tvalid_1's auc: 0.736115\n",
      "[1600]\ttraining's auc: 0.74868\tvalid_1's auc: 0.736326\n",
      "[1700]\ttraining's auc: 0.749629\tvalid_1's auc: 0.736497\n",
      "[1800]\ttraining's auc: 0.750534\tvalid_1's auc: 0.736654\n",
      "[1900]\ttraining's auc: 0.7514\tvalid_1's auc: 0.736766\n",
      "[2000]\ttraining's auc: 0.752276\tvalid_1's auc: 0.736931\n",
      "[2100]\ttraining's auc: 0.753163\tvalid_1's auc: 0.737076\n",
      "[2200]\ttraining's auc: 0.754036\tvalid_1's auc: 0.737218\n",
      "[2300]\ttraining's auc: 0.754897\tvalid_1's auc: 0.737341\n",
      "[2400]\ttraining's auc: 0.755708\tvalid_1's auc: 0.737448\n",
      "[2500]\ttraining's auc: 0.756553\tvalid_1's auc: 0.737582\n",
      "[2600]\ttraining's auc: 0.757366\tvalid_1's auc: 0.737648\n",
      "[2700]\ttraining's auc: 0.758156\tvalid_1's auc: 0.737704\n",
      "[2800]\ttraining's auc: 0.758943\tvalid_1's auc: 0.737759\n",
      "[2900]\ttraining's auc: 0.75971\tvalid_1's auc: 0.737798\n",
      "[3000]\ttraining's auc: 0.760497\tvalid_1's auc: 0.737874\n",
      "[3100]\ttraining's auc: 0.761291\tvalid_1's auc: 0.737939\n",
      "[3200]\ttraining's auc: 0.762057\tvalid_1's auc: 0.737987\n",
      "[3300]\ttraining's auc: 0.762826\tvalid_1's auc: 0.73807\n",
      "[3400]\ttraining's auc: 0.76353\tvalid_1's auc: 0.738112\n",
      "[3500]\ttraining's auc: 0.764261\tvalid_1's auc: 0.738169\n",
      "[3600]\ttraining's auc: 0.764986\tvalid_1's auc: 0.738212\n",
      "[3700]\ttraining's auc: 0.765693\tvalid_1's auc: 0.738232\n",
      "[3800]\ttraining's auc: 0.76642\tvalid_1's auc: 0.738267\n",
      "[3900]\ttraining's auc: 0.767137\tvalid_1's auc: 0.738289\n",
      "[4000]\ttraining's auc: 0.76783\tvalid_1's auc: 0.738317\n",
      "[4100]\ttraining's auc: 0.76854\tvalid_1's auc: 0.738383\n",
      "[4200]\ttraining's auc: 0.769229\tvalid_1's auc: 0.738411\n",
      "[4300]\ttraining's auc: 0.76994\tvalid_1's auc: 0.738461\n",
      "[4400]\ttraining's auc: 0.770638\tvalid_1's auc: 0.738484\n",
      "[4500]\ttraining's auc: 0.771296\tvalid_1's auc: 0.738481\n",
      "Early stopping, best iteration is:\n",
      "[4401]\ttraining's auc: 0.770647\tvalid_1's auc: 0.738485\n"
     ]
    }
   ],
   "source": [
    "#Convert dataset into LightGBM dataset format\n",
    "features = list(train1.columns)\n",
    "oof_lgb = np.zeros(len(train1))\n",
    "predictions_lgb = np.zeros(len(test1))\n",
    "\n",
    "for fold_, (trn_idx, val_idx) in enumerate(folds.split(train1.values, target.values)):\n",
    "    print('-')\n",
    "    print(\"Fold {}\".format(fold_ + 1))\n",
    "    trn_data = lgb.Dataset(train1.iloc[trn_idx][features], label=target.iloc[trn_idx])\n",
    "    val_data = lgb.Dataset(train1.iloc[val_idx][features], label=target.iloc[val_idx])\n",
    "\n",
    "    num_round = 10000\n",
    "    clf = lgb.train(param, trn_data, num_round, valid_sets = [trn_data, val_data], verbose_eval=100, early_stopping_rounds=150)\n",
    "    oof_lgb[val_idx] = clf.predict(train1.iloc[val_idx][features], num_iteration=clf.best_iteration)\n",
    "    predictions_lgb += clf.predict(test1[features], num_iteration=clf.best_iteration) / folds.n_splits"
   ]
  },
  {
   "cell_type": "code",
   "execution_count": 138,
   "metadata": {},
   "outputs": [
    {
     "data": {
      "text/plain": [
       "array([0.50960066, 0.55493305, 0.45925714, ..., 0.44468535, 0.46423598,\n",
       "       0.45905428])"
      ]
     },
     "execution_count": 138,
     "metadata": {},
     "output_type": "execute_result"
    }
   ],
   "source": [
    "predictions_lgb"
   ]
  },
  {
   "cell_type": "markdown",
   "metadata": {},
   "source": [
    "<a id =\"EVA\"></a>\n",
    "**5. Evaluation**\n",
    "\n",
    "* Upload to Kaggle for evaluation"
   ]
  },
  {
   "cell_type": "code",
   "execution_count": 139,
   "metadata": {},
   "outputs": [
    {
     "data": {
      "text/html": [
       "<div>\n",
       "<style scoped>\n",
       "    .dataframe tbody tr th:only-of-type {\n",
       "        vertical-align: middle;\n",
       "    }\n",
       "\n",
       "    .dataframe tbody tr th {\n",
       "        vertical-align: top;\n",
       "    }\n",
       "\n",
       "    .dataframe thead th {\n",
       "        text-align: right;\n",
       "    }\n",
       "</style>\n",
       "<table border=\"1\" class=\"dataframe\">\n",
       "  <thead>\n",
       "    <tr style=\"text-align: right;\">\n",
       "      <th></th>\n",
       "      <th>MachineIdentifier</th>\n",
       "      <th>HasDetections</th>\n",
       "    </tr>\n",
       "  </thead>\n",
       "  <tbody>\n",
       "    <tr>\n",
       "      <th>0</th>\n",
       "      <td>0000010489e3af074adeac69c53e555e</td>\n",
       "      <td>0.51</td>\n",
       "    </tr>\n",
       "    <tr>\n",
       "      <th>1</th>\n",
       "      <td>00000176ac758d54827acd545b6315a5</td>\n",
       "      <td>0.55</td>\n",
       "    </tr>\n",
       "    <tr>\n",
       "      <th>2</th>\n",
       "      <td>0000019dcefc128c2d4387c1273dae1d</td>\n",
       "      <td>0.46</td>\n",
       "    </tr>\n",
       "    <tr>\n",
       "      <th>3</th>\n",
       "      <td>0000055553dc51b1295785415f1a224d</td>\n",
       "      <td>0.49</td>\n",
       "    </tr>\n",
       "    <tr>\n",
       "      <th>4</th>\n",
       "      <td>00000574cefffeca83ec8adf9285b2bf</td>\n",
       "      <td>0.57</td>\n",
       "    </tr>\n",
       "    <tr>\n",
       "      <th>5</th>\n",
       "      <td>000007ffedd31948f08e6c16da31f6d1</td>\n",
       "      <td>0.57</td>\n",
       "    </tr>\n",
       "    <tr>\n",
       "      <th>6</th>\n",
       "      <td>000008f31610018d898e5f315cdf1bd1</td>\n",
       "      <td>0.34</td>\n",
       "    </tr>\n",
       "    <tr>\n",
       "      <th>7</th>\n",
       "      <td>00000a3c447250626dbcc628c9cbc460</td>\n",
       "      <td>0.19</td>\n",
       "    </tr>\n",
       "    <tr>\n",
       "      <th>8</th>\n",
       "      <td>00000b6bf217ec9aef0f68d5c6705897</td>\n",
       "      <td>0.16</td>\n",
       "    </tr>\n",
       "    <tr>\n",
       "      <th>9</th>\n",
       "      <td>00000b8d3776b13e93ad83676a28e4aa</td>\n",
       "      <td>0.41</td>\n",
       "    </tr>\n",
       "  </tbody>\n",
       "</table>\n",
       "</div>"
      ],
      "text/plain": [
       "                  MachineIdentifier  HasDetections\n",
       "0  0000010489e3af074adeac69c53e555e           0.51\n",
       "1  00000176ac758d54827acd545b6315a5           0.55\n",
       "2  0000019dcefc128c2d4387c1273dae1d           0.46\n",
       "3  0000055553dc51b1295785415f1a224d           0.49\n",
       "4  00000574cefffeca83ec8adf9285b2bf           0.57\n",
       "5  000007ffedd31948f08e6c16da31f6d1           0.57\n",
       "6  000008f31610018d898e5f315cdf1bd1           0.34\n",
       "7  00000a3c447250626dbcc628c9cbc460           0.19\n",
       "8  00000b6bf217ec9aef0f68d5c6705897           0.16\n",
       "9  00000b8d3776b13e93ad83676a28e4aa           0.41"
      ]
     },
     "execution_count": 139,
     "metadata": {},
     "output_type": "execute_result"
    }
   ],
   "source": [
    "sub_df = pd.DataFrame({\"MachineIdentifier\": test[\"MachineIdentifier\"].values})\n",
    "sub_df[\"HasDetections\"] = predictions_lgb\n",
    "sub_df[:10]\n"
   ]
  },
  {
   "cell_type": "code",
   "execution_count": 140,
   "metadata": {
    "collapsed": true
   },
   "outputs": [],
   "source": [
    "sub_df.to_csv(\"submit.csv\", index=False)"
   ]
  },
  {
   "cell_type": "markdown",
   "metadata": {},
   "source": [
    "<a id =\"NS\"></a>\n",
    "**6. Next Step**\n",
    "\n",
    "1. Cleaner dataset\n",
    "2. Feature engineering \n",
    "3. Modeling options:\n",
    "    * Neural Network \n",
    "    * Time Series "
   ]
  },
  {
   "cell_type": "markdown",
   "metadata": {},
   "source": [
    "** Appendix **"
   ]
  },
  {
   "cell_type": "code",
   "execution_count": 95,
   "metadata": {},
   "outputs": [
    {
     "data": {
      "text/plain": [
       "1.273.1420.0    102317\n",
       "1.263.48.0       98024\n",
       "1.275.1140.0     97232\n",
       "1.275.727.0      92448\n",
       "1.273.371.0      86967\n",
       "1.273.1826.0     86013\n",
       "1.275.1244.0     78902\n",
       "1.251.42.0       76837\n",
       "1.275.1209.0     66393\n",
       "1.273.810.0      65895\n",
       "Name: AvSigVersion, dtype: int64"
      ]
     },
     "execution_count": 95,
     "metadata": {},
     "output_type": "execute_result"
    }
   ],
   "source": [
    "# check AvSigVersion\n",
    "# AvSigVersion - Defender state information e.g. 1.217.1014.0\n",
    "data_train['AvSigVersion'].value_counts()[:10]"
   ]
  },
  {
   "cell_type": "code",
   "execution_count": 96,
   "metadata": {},
   "outputs": [
    {
     "data": {
      "text/plain": [
       "17134.1.amd64fre.rs4_release.180410-1804                 3658199\n",
       "16299.431.amd64fre.rs3_release_svc_escrow.180502-1908    1252674\n",
       "16299.15.amd64fre.rs3_release.170928-1534                 961060\n",
       "15063.0.amd64fre.rs2_release.170317-1834                  718033\n",
       "17134.1.x86fre.rs4_release.180410-1804                    257074\n",
       "16299.15.x86fre.rs3_release.170928-1534                   233449\n",
       "14393.2189.amd64fre.rs1_release.180329-1711               193636\n",
       "10240.17443.amd64fre.th1.170602-2340                      171990\n",
       "10586.1176.amd64fre.th2_release_sec.170913-1848           148259\n",
       "15063.0.x86fre.rs2_release.170317-1834                     62237\n",
       "Name: OsBuildLab, dtype: int64"
      ]
     },
     "execution_count": 96,
     "metadata": {},
     "output_type": "execute_result"
    }
   ],
   "source": [
    "data_train['OsBuildLab'].value_counts()[:10]                                                    "
   ]
  },
  {
   "cell_type": "code",
   "execution_count": 97,
   "metadata": {},
   "outputs": [
    {
     "data": {
      "text/plain": [
       "10.0.17134.228     1413627\n",
       "10.0.17134.165      899711\n",
       "10.0.16299.431      546546\n",
       "10.0.17134.285      470280\n",
       "10.0.16299.547      346853\n",
       "10.0.17134.112      346410\n",
       "10.0.16299.371      325267\n",
       "10.0.17134.191      228254\n",
       "10.0.14393.2189     223775\n",
       "10.0.16299.611      216776\n",
       "Name: Census_OSVersion, dtype: int64"
      ]
     },
     "execution_count": 97,
     "metadata": {},
     "output_type": "execute_result"
    }
   ],
   "source": [
    "data_train['Census_OSVersion'].value_counts()[:10]"
   ]
  },
  {
   "cell_type": "code",
   "execution_count": 99,
   "metadata": {},
   "outputs": [
    {
     "data": {
      "text/plain": [
       "4.18.1807.18075     5139224\n",
       "4.18.1806.18062      850929\n",
       "4.12.16299.15        359871\n",
       "4.10.209.0           272455\n",
       "4.13.17134.1         257270\n",
       "4.16.17656.18052     235032\n",
       "4.13.17134.228       226501\n",
       "4.8.10240.17443      205480\n",
       "4.9.10586.1106       203525\n",
       "4.14.17639.18041     194699\n",
       "Name: AppVersion, dtype: int64"
      ]
     },
     "execution_count": 99,
     "metadata": {},
     "output_type": "execute_result"
    }
   ],
   "source": [
    "data_train['AppVersion'].value_counts()[:10]                                                              "
   ]
  },
  {
   "cell_type": "code",
   "execution_count": 102,
   "metadata": {},
   "outputs": [
    {
     "data": {
      "text/plain": [
       "1.1.15200.1    3845067\n",
       "1.1.15100.1    3675915\n",
       "1.1.15000.2     265218\n",
       "1.1.14901.4     212408\n",
       "1.1.14600.4     160585\n",
       "1.1.14800.3     136476\n",
       "1.1.15300.6     120295\n",
       "1.1.14104.0      93926\n",
       "1.1.13504.0      70645\n",
       "1.1.15300.5      68716\n",
       "Name: EngineVersion, dtype: int64"
      ]
     },
     "execution_count": 102,
     "metadata": {},
     "output_type": "execute_result"
    }
   ],
   "source": [
    "data_train['EngineVersion'].value_counts()[:10]\n",
    "# We can see that some of the categorical columns provide similar information. We can delete some of them to reduce the complexity"
   ]
  },
  {
   "cell_type": "code",
   "execution_count": 134,
   "metadata": {},
   "outputs": [
    {
     "data": {
      "text/plain": [
       "['AvSigVersion', 'MachineIdentifier', 'OsBuildLab']"
      ]
     },
     "execution_count": 134,
     "metadata": {},
     "output_type": "execute_result"
    }
   ],
   "source": [
    "high_cardinality_columns"
   ]
  },
  {
   "cell_type": "code",
   "execution_count": 56,
   "metadata": {},
   "outputs": [
    {
     "data": {
      "image/png": "[encoded data removed]",
      "text/plain": [
       "<matplotlib.figure.Figure at 0x2244c61a470>"
      ]
     },
     "metadata": {},
     "output_type": "display_data"
    }
   ],
   "source": [
    "# Check columns that have lots of missing values\n",
    "sns.countplot(x='PuaMode', hue='HasDetections',data=data_train);"
   ]
  },
  {
   "cell_type": "code",
   "execution_count": 52,
   "metadata": {},
   "outputs": [
    {
     "data": {
      "image/png": "[encoded data removed]",
      "text/plain": [
       "<matplotlib.figure.Figure at 0x223f0f7ada0>"
      ]
     },
     "metadata": {},
     "output_type": "display_data"
    }
   ],
   "source": [
    "sns.countplot(x='Census_ProcessorClass', hue='HasDetections',data=data_train);"
   ]
  },
  {
   "cell_type": "code",
   "execution_count": 105,
   "metadata": {
    "collapsed": true
   },
   "outputs": [],
   "source": [
    "cols_to_remove = ['DefaultBrowsersIdentifier','Census_ProcessorClass' ,'PuaMode',\n",
    "                  'Census_IsFlightingInternal', 'Census_InternalBatteryType',\n",
    "                 'Census_ThresholdOptIn','Census_IsWIMBootEnabled']\n",
    "\n",
    "data_train.drop(cols_to_remove, axis=1, inplace=True)"
   ]
  },
  {
   "cell_type": "code",
   "execution_count": 108,
   "metadata": {
    "scrolled": true
   },
   "outputs": [
    {
     "data": {
      "text/plain": [
       "count          5744472\n",
       "unique              21\n",
       "top       RequireAdmin\n",
       "freq           4316183\n",
       "Name: SmartScreen, dtype: object"
      ]
     },
     "execution_count": 108,
     "metadata": {},
     "output_type": "execute_result"
    }
   ],
   "source": [
    "# Keep checking columns that have many nan values\n",
    "data_train['SmartScreen'].describe()\n",
    "# Potential solution to slove nan values: replace with its mode "
   ]
  },
  {
   "cell_type": "code",
   "execution_count": 109,
   "metadata": {},
   "outputs": [
    {
     "data": {
      "text/plain": [
       "count   6169965.00\n",
       "mean         24.86\n",
       "std           5.61\n",
       "min           1.00\n",
       "25%          18.00\n",
       "50%          27.00\n",
       "75%          27.00\n",
       "max          52.00\n",
       "Name: OrganizationIdentifier, dtype: float64"
      ]
     },
     "execution_count": 109,
     "metadata": {},
     "output_type": "execute_result"
    }
   ],
   "source": [
    "data_train['OrganizationIdentifier'].describe()"
   ]
  },
  {
   "cell_type": "code",
   "execution_count": 107,
   "metadata": {},
   "outputs": [
    {
     "data": {
      "text/plain": [
       "HasDetections                                       1.00\n",
       "AVProductsInstalled                                 0.15\n",
       "AVProductStatesIdentifier                           0.12\n",
       "Census_IsAlwaysOnAlwaysConnectedCapable             0.06\n",
       "Census_TotalPhysicalRAM                             0.06\n",
       "IsProtected                                         0.06\n",
       "Census_ProcessorCoreCount                           0.05\n",
       "Wdft_IsGamer                                        0.05\n",
       "Census_IsVirtualDevice                              0.05\n",
       "AVProductsEnabled                                   0.04\n",
       "RtpStateBitfield                                    0.04\n",
       "Census_IsTouchEnabled                               0.04\n",
       "IsSxsPassiveMode                                    0.04\n",
       "Census_InternalPrimaryDiagonalDisplaySizeInInches   0.03\n",
       "Census_InternalPrimaryDisplayResolutionHorizontal   0.03\n",
       "Census_OSBuildNumber                                0.03\n",
       "Census_FirmwareManufacturerIdentifier               0.03\n",
       "OsBuild                                             0.02\n",
       "Wdft_RegionIdentifier                               0.02\n",
       "Census_ProcessorModelIdentifier                     0.02\n",
       "Census_HasOpticalDiskDrive                          0.02\n",
       "OsSuite                                             0.02\n",
       "Census_InternalBatteryNumberOfCharges               0.02\n",
       "Census_IsPenCapable                                 0.02\n",
       "IeVerIdentifier                                     0.02\n",
       "LocaleEnglishNameIdentifier                         0.02\n",
       "Census_OEMNameIdentifier                            0.02\n",
       "SMode                                               0.01\n",
       "Census_SystemVolumeTotalCapacity                    0.01\n",
       "Census_InternalPrimaryDisplayResolutionVertical     0.01\n",
       "Census_OSBuildRevision                              0.01\n",
       "CountryIdentifier                                   0.01\n",
       "Census_ProcessorManufacturerIdentifier              0.01\n",
       "HasTpm                                              0.01\n",
       "Census_OEMModelIdentifier                           0.00\n",
       "GeoNameIdentifier                                   0.00\n",
       "OrganizationIdentifier                              0.00\n",
       "Firewall                                            0.00\n",
       "Census_IsFlightsDisabled                            0.00\n",
       "Census_OSInstallLanguageIdentifier                  0.00\n",
       "Census_IsPortableOperatingSystem                    0.00\n",
       "CityIdentifier                                      0.00\n",
       "Census_FirmwareVersionIdentifier                    0.00\n",
       "Census_OSUILocaleIdentifier                         0.00\n",
       "Census_IsSecureBootEnabled                          0.00\n",
       "Census_ThresholdOptIn                               0.00\n",
       "Census_IsWIMBootEnabled                             0.00\n",
       "AutoSampleOptIn                                     0.00\n",
       "UacLuaenable                                        0.00\n",
       "Census_PrimaryDiskTotalCapacity                     0.00\n",
       "IsBeta                                              0.00\n",
       "Name: HasDetections, dtype: float64"
      ]
     },
     "execution_count": 107,
     "metadata": {},
     "output_type": "execute_result"
    }
   ],
   "source": [
    "# Check correlations \n",
    "corr = data_train.corr()['HasDetections']\n",
    "abs(corr).sort_values(ascending=False)"
   ]
  },
  {
   "cell_type": "code",
   "execution_count": null,
   "metadata": {
    "collapsed": true
   },
   "outputs": [],
   "source": []
  },
  {
   "cell_type": "code",
   "execution_count": null,
   "metadata": {
    "collapsed": true
   },
   "outputs": [],
   "source": []
  },
  {
   "cell_type": "code",
   "execution_count": null,
   "metadata": {
    "collapsed": true
   },
   "outputs": [],
   "source": []
  },
  {
   "cell_type": "code",
   "execution_count": null,
   "metadata": {
    "collapsed": true
   },
   "outputs": [],
   "source": []
  },
  {
   "cell_type": "code",
   "execution_count": null,
   "metadata": {
    "collapsed": true
   },
   "outputs": [],
   "source": []
  },
  {
   "cell_type": "code",
   "execution_count": null,
   "metadata": {
    "collapsed": true
   },
   "outputs": [],
   "source": []
  }
 ],
 "metadata": {
  "kernelspec": {
   "display_name": "Python 3",
   "language": "python",
   "name": "python3"
  },
  "language_info": {
   "codemirror_mode": {
    "name": "ipython",
    "version": 3
   },
   "file_extension": ".py",
   "mimetype": "text/x-python",
   "name": "python",
   "nbconvert_exporter": "python",
   "pygments_lexer": "ipython3",
   "version": "3.6.8"
  }
 },
 "nbformat": 4,
 "nbformat_minor": 2
}
